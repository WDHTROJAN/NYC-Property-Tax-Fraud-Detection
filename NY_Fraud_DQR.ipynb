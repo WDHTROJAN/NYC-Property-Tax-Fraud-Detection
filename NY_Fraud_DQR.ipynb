{
 "cells": [
  {
   "cell_type": "code",
   "execution_count": 1,
   "metadata": {},
   "outputs": [],
   "source": [
    "import pandas as pd\n",
    "import numpy as np\n",
    "import matplotlib.pyplot as plt\n",
    "import seaborn as sns\n",
    "%matplotlib inline\n",
    "from copy import deepcopy\n",
    "from datetime import datetime\n",
    "start_time = datetime.now()"
   ]
  },
  {
   "cell_type": "code",
   "execution_count": 2,
   "metadata": {},
   "outputs": [
    {
     "name": "stderr",
     "output_type": "stream",
     "text": [
      "/Applications/anaconda3/lib/python3.7/site-packages/numpy/lib/arraysetops.py:568: FutureWarning: elementwise comparison failed; returning scalar instead, but in the future will perform elementwise comparison\n",
      "  mask |= (ar1 == a)\n"
     ]
    }
   ],
   "source": [
    "data = pd.read_csv('NY property data.csv', index_col = 0)"
   ]
  },
  {
   "cell_type": "code",
   "execution_count": 3,
   "metadata": {},
   "outputs": [
    {
     "data": {
      "text/html": [
       "<div>\n",
       "<style scoped>\n",
       "    .dataframe tbody tr th:only-of-type {\n",
       "        vertical-align: middle;\n",
       "    }\n",
       "\n",
       "    .dataframe tbody tr th {\n",
       "        vertical-align: top;\n",
       "    }\n",
       "\n",
       "    .dataframe thead th {\n",
       "        text-align: right;\n",
       "    }\n",
       "</style>\n",
       "<table border=\"1\" class=\"dataframe\">\n",
       "  <thead>\n",
       "    <tr style=\"text-align: right;\">\n",
       "      <th></th>\n",
       "      <th>BBLE</th>\n",
       "      <th>B</th>\n",
       "      <th>BLOCK</th>\n",
       "      <th>LOT</th>\n",
       "      <th>EASEMENT</th>\n",
       "      <th>OWNER</th>\n",
       "      <th>BLDGCL</th>\n",
       "      <th>TAXCLASS</th>\n",
       "      <th>LTFRONT</th>\n",
       "      <th>LTDEPTH</th>\n",
       "      <th>...</th>\n",
       "      <th>BLDFRONT</th>\n",
       "      <th>BLDDEPTH</th>\n",
       "      <th>AVLAND2</th>\n",
       "      <th>AVTOT2</th>\n",
       "      <th>EXLAND2</th>\n",
       "      <th>EXTOT2</th>\n",
       "      <th>EXCD2</th>\n",
       "      <th>PERIOD</th>\n",
       "      <th>YEAR</th>\n",
       "      <th>VALTYPE</th>\n",
       "    </tr>\n",
       "    <tr>\n",
       "      <th>RECORD</th>\n",
       "      <th></th>\n",
       "      <th></th>\n",
       "      <th></th>\n",
       "      <th></th>\n",
       "      <th></th>\n",
       "      <th></th>\n",
       "      <th></th>\n",
       "      <th></th>\n",
       "      <th></th>\n",
       "      <th></th>\n",
       "      <th></th>\n",
       "      <th></th>\n",
       "      <th></th>\n",
       "      <th></th>\n",
       "      <th></th>\n",
       "      <th></th>\n",
       "      <th></th>\n",
       "      <th></th>\n",
       "      <th></th>\n",
       "      <th></th>\n",
       "      <th></th>\n",
       "    </tr>\n",
       "  </thead>\n",
       "  <tbody>\n",
       "    <tr>\n",
       "      <th>1</th>\n",
       "      <td>1000010101</td>\n",
       "      <td>1</td>\n",
       "      <td>1</td>\n",
       "      <td>101</td>\n",
       "      <td>NaN</td>\n",
       "      <td>U S GOVT LAND &amp; BLDGS</td>\n",
       "      <td>P7</td>\n",
       "      <td>4</td>\n",
       "      <td>500</td>\n",
       "      <td>1046</td>\n",
       "      <td>...</td>\n",
       "      <td>0</td>\n",
       "      <td>0</td>\n",
       "      <td>3775500.0</td>\n",
       "      <td>8613000.0</td>\n",
       "      <td>3775500.0</td>\n",
       "      <td>8613000.0</td>\n",
       "      <td>NaN</td>\n",
       "      <td>FINAL</td>\n",
       "      <td>2010/11</td>\n",
       "      <td>AC-TR</td>\n",
       "    </tr>\n",
       "    <tr>\n",
       "      <th>2</th>\n",
       "      <td>1000010201</td>\n",
       "      <td>1</td>\n",
       "      <td>1</td>\n",
       "      <td>201</td>\n",
       "      <td>NaN</td>\n",
       "      <td>U S GOVT LAND &amp; BLDGS</td>\n",
       "      <td>Z9</td>\n",
       "      <td>4</td>\n",
       "      <td>27</td>\n",
       "      <td>0</td>\n",
       "      <td>...</td>\n",
       "      <td>0</td>\n",
       "      <td>0</td>\n",
       "      <td>11111400.0</td>\n",
       "      <td>80690400.0</td>\n",
       "      <td>11111400.0</td>\n",
       "      <td>80690400.0</td>\n",
       "      <td>NaN</td>\n",
       "      <td>FINAL</td>\n",
       "      <td>2010/11</td>\n",
       "      <td>AC-TR</td>\n",
       "    </tr>\n",
       "    <tr>\n",
       "      <th>3</th>\n",
       "      <td>1000020001</td>\n",
       "      <td>1</td>\n",
       "      <td>2</td>\n",
       "      <td>1</td>\n",
       "      <td>NaN</td>\n",
       "      <td>DEPT OF GENERAL SERVI</td>\n",
       "      <td>Y7</td>\n",
       "      <td>4</td>\n",
       "      <td>709</td>\n",
       "      <td>564</td>\n",
       "      <td>...</td>\n",
       "      <td>709</td>\n",
       "      <td>564</td>\n",
       "      <td>32321790.0</td>\n",
       "      <td>40179510.0</td>\n",
       "      <td>32321790.0</td>\n",
       "      <td>40179510.0</td>\n",
       "      <td>NaN</td>\n",
       "      <td>FINAL</td>\n",
       "      <td>2010/11</td>\n",
       "      <td>AC-TR</td>\n",
       "    </tr>\n",
       "    <tr>\n",
       "      <th>4</th>\n",
       "      <td>1000020023</td>\n",
       "      <td>1</td>\n",
       "      <td>2</td>\n",
       "      <td>23</td>\n",
       "      <td>NaN</td>\n",
       "      <td>DEPARTMENT OF BUSINES</td>\n",
       "      <td>T2</td>\n",
       "      <td>4</td>\n",
       "      <td>793</td>\n",
       "      <td>551</td>\n",
       "      <td>...</td>\n",
       "      <td>85</td>\n",
       "      <td>551</td>\n",
       "      <td>13644000.0</td>\n",
       "      <td>15750000.0</td>\n",
       "      <td>13644000.0</td>\n",
       "      <td>15750000.0</td>\n",
       "      <td>NaN</td>\n",
       "      <td>FINAL</td>\n",
       "      <td>2010/11</td>\n",
       "      <td>AC-TR</td>\n",
       "    </tr>\n",
       "    <tr>\n",
       "      <th>5</th>\n",
       "      <td>1000030001</td>\n",
       "      <td>1</td>\n",
       "      <td>3</td>\n",
       "      <td>1</td>\n",
       "      <td>NaN</td>\n",
       "      <td>PARKS AND RECREATION</td>\n",
       "      <td>Q1</td>\n",
       "      <td>4</td>\n",
       "      <td>323</td>\n",
       "      <td>1260</td>\n",
       "      <td>...</td>\n",
       "      <td>89</td>\n",
       "      <td>57</td>\n",
       "      <td>106348680.0</td>\n",
       "      <td>107758350.0</td>\n",
       "      <td>106348680.0</td>\n",
       "      <td>107758350.0</td>\n",
       "      <td>NaN</td>\n",
       "      <td>FINAL</td>\n",
       "      <td>2010/11</td>\n",
       "      <td>AC-TR</td>\n",
       "    </tr>\n",
       "  </tbody>\n",
       "</table>\n",
       "<p>5 rows × 31 columns</p>\n",
       "</div>"
      ],
      "text/plain": [
       "              BBLE  B  BLOCK  LOT EASEMENT                  OWNER BLDGCL  \\\n",
       "RECORD                                                                     \n",
       "1       1000010101  1      1  101      NaN  U S GOVT LAND & BLDGS     P7   \n",
       "2       1000010201  1      1  201      NaN  U S GOVT LAND & BLDGS     Z9   \n",
       "3       1000020001  1      2    1      NaN  DEPT OF GENERAL SERVI     Y7   \n",
       "4       1000020023  1      2   23      NaN  DEPARTMENT OF BUSINES     T2   \n",
       "5       1000030001  1      3    1      NaN   PARKS AND RECREATION     Q1   \n",
       "\n",
       "       TAXCLASS  LTFRONT  LTDEPTH  ... BLDFRONT  BLDDEPTH      AVLAND2  \\\n",
       "RECORD                             ...                                   \n",
       "1             4      500     1046  ...        0         0    3775500.0   \n",
       "2             4       27        0  ...        0         0   11111400.0   \n",
       "3             4      709      564  ...      709       564   32321790.0   \n",
       "4             4      793      551  ...       85       551   13644000.0   \n",
       "5             4      323     1260  ...       89        57  106348680.0   \n",
       "\n",
       "             AVTOT2      EXLAND2       EXTOT2  EXCD2  PERIOD     YEAR  VALTYPE  \n",
       "RECORD                                                                          \n",
       "1         8613000.0    3775500.0    8613000.0    NaN   FINAL  2010/11    AC-TR  \n",
       "2        80690400.0   11111400.0   80690400.0    NaN   FINAL  2010/11    AC-TR  \n",
       "3        40179510.0   32321790.0   40179510.0    NaN   FINAL  2010/11    AC-TR  \n",
       "4        15750000.0   13644000.0   15750000.0    NaN   FINAL  2010/11    AC-TR  \n",
       "5       107758350.0  106348680.0  107758350.0    NaN   FINAL  2010/11    AC-TR  \n",
       "\n",
       "[5 rows x 31 columns]"
      ]
     },
     "execution_count": 3,
     "metadata": {},
     "output_type": "execute_result"
    }
   ],
   "source": [
    "data.head()"
   ]
  },
  {
   "cell_type": "code",
   "execution_count": 4,
   "metadata": {},
   "outputs": [
    {
     "name": "stdout",
     "output_type": "stream",
     "text": [
      "Rows     :  1070994\n",
      "Columns  :  31\n",
      "\n",
      "Features : \n",
      " ['BBLE', 'B', 'BLOCK', 'LOT', 'EASEMENT', 'OWNER', 'BLDGCL', 'TAXCLASS', 'LTFRONT', 'LTDEPTH', 'EXT', 'STORIES', 'FULLVAL', 'AVLAND', 'AVTOT', 'EXLAND', 'EXTOT', 'EXCD1', 'STADDR', 'ZIP', 'EXMPTCL', 'BLDFRONT', 'BLDDEPTH', 'AVLAND2', 'AVTOT2', 'EXLAND2', 'EXTOT2', 'EXCD2', 'PERIOD', 'YEAR', 'VALTYPE']\n",
      "\n",
      "Missing values : \n",
      " BBLE              0\n",
      "B                 0\n",
      "BLOCK             0\n",
      "LOT               0\n",
      "EASEMENT    1066358\n",
      "OWNER         31745\n",
      "BLDGCL            0\n",
      "TAXCLASS          0\n",
      "LTFRONT           0\n",
      "LTDEPTH           0\n",
      "EXT          716689\n",
      "STORIES       56264\n",
      "FULLVAL           0\n",
      "AVLAND            0\n",
      "AVTOT             0\n",
      "EXLAND            0\n",
      "EXTOT             0\n",
      "EXCD1        432506\n",
      "STADDR          676\n",
      "ZIP           29890\n",
      "EXMPTCL     1055415\n",
      "BLDFRONT          0\n",
      "BLDDEPTH          0\n",
      "AVLAND2      788268\n",
      "AVTOT2       788262\n",
      "EXLAND2      983545\n",
      "EXTOT2       940166\n",
      "EXCD2        978046\n",
      "PERIOD            0\n",
      "YEAR              0\n",
      "VALTYPE           0\n",
      "dtype: int64\n",
      "\n",
      "Unique values   :  BBLE        1070994\n",
      "B                 5\n",
      "BLOCK         13984\n",
      "LOT            6366\n",
      "EASEMENT         12\n",
      "OWNER        863346\n",
      "BLDGCL          200\n",
      "TAXCLASS         11\n",
      "LTFRONT        1297\n",
      "LTDEPTH        1370\n",
      "EXT               3\n",
      "STORIES         111\n",
      "FULLVAL      109324\n",
      "AVLAND        70921\n",
      "AVTOT        112914\n",
      "EXLAND        33419\n",
      "EXTOT         64255\n",
      "EXCD1           129\n",
      "STADDR       839280\n",
      "ZIP             196\n",
      "EXMPTCL          14\n",
      "BLDFRONT        612\n",
      "BLDDEPTH        621\n",
      "AVLAND2       58591\n",
      "AVTOT2       111360\n",
      "EXLAND2       22195\n",
      "EXTOT2        48348\n",
      "EXCD2            60\n",
      "PERIOD            1\n",
      "YEAR              1\n",
      "VALTYPE           1\n",
      "dtype: int64\n"
     ]
    }
   ],
   "source": [
    "print(\"Rows     : \", data.shape[0])\n",
    "print(\"Columns  : \", data.shape[1])\n",
    "print(\"\\nFeatures : \\n\", data.columns.tolist())\n",
    "print(\"\\nMissing values : \\n\" , data.isnull().sum())\n",
    "print(\"\\nUnique values   : \", data.nunique())"
   ]
  },
  {
   "cell_type": "code",
   "execution_count": 5,
   "metadata": {},
   "outputs": [
    {
     "name": "stdout",
     "output_type": "stream",
     "text": [
      "<class 'pandas.core.frame.DataFrame'>\n",
      "Int64Index: 1070994 entries, 1 to 1070994\n",
      "Data columns (total 31 columns):\n",
      " #   Column    Non-Null Count    Dtype  \n",
      "---  ------    --------------    -----  \n",
      " 0   BBLE      1070994 non-null  object \n",
      " 1   B         1070994 non-null  int64  \n",
      " 2   BLOCK     1070994 non-null  int64  \n",
      " 3   LOT       1070994 non-null  int64  \n",
      " 4   EASEMENT  4636 non-null     object \n",
      " 5   OWNER     1039249 non-null  object \n",
      " 6   BLDGCL    1070994 non-null  object \n",
      " 7   TAXCLASS  1070994 non-null  object \n",
      " 8   LTFRONT   1070994 non-null  int64  \n",
      " 9   LTDEPTH   1070994 non-null  int64  \n",
      " 10  EXT       354305 non-null   object \n",
      " 11  STORIES   1014730 non-null  float64\n",
      " 12  FULLVAL   1070994 non-null  float64\n",
      " 13  AVLAND    1070994 non-null  float64\n",
      " 14  AVTOT     1070994 non-null  float64\n",
      " 15  EXLAND    1070994 non-null  float64\n",
      " 16  EXTOT     1070994 non-null  float64\n",
      " 17  EXCD1     638488 non-null   float64\n",
      " 18  STADDR    1070318 non-null  object \n",
      " 19  ZIP       1041104 non-null  float64\n",
      " 20  EXMPTCL   15579 non-null    object \n",
      " 21  BLDFRONT  1070994 non-null  int64  \n",
      " 22  BLDDEPTH  1070994 non-null  int64  \n",
      " 23  AVLAND2   282726 non-null   float64\n",
      " 24  AVTOT2    282732 non-null   float64\n",
      " 25  EXLAND2   87449 non-null    float64\n",
      " 26  EXTOT2    130828 non-null   float64\n",
      " 27  EXCD2     92948 non-null    float64\n",
      " 28  PERIOD    1070994 non-null  object \n",
      " 29  YEAR      1070994 non-null  object \n",
      " 30  VALTYPE   1070994 non-null  object \n",
      "dtypes: float64(13), int64(7), object(11)\n",
      "memory usage: 261.5+ MB\n"
     ]
    }
   ],
   "source": [
    "data.info()"
   ]
  },
  {
   "cell_type": "code",
   "execution_count": 6,
   "metadata": {},
   "outputs": [],
   "source": [
    "num_cols = ['LTFRONT', 'LTDEPTH', 'STORIES', 'FULLVAL', 'AVLAND', 'AVTOT', 'EXLAND', 'EXTOT', 'BLDFRONT', 'BLDDEPTH', \\\n",
    "            'AVLAND2', 'AVTOT2', 'EXLAND2', 'EXTOT2']\n",
    "cat_cols = ['BBLE', 'B', 'BLOCK', 'LOT', 'EASEMENT', 'OWNER', 'BLDGCL', 'TAXCLASS', 'EXT', 'EXCD1', 'STADDR', 'ZIP',\\\n",
    "            'EXMPTCL', 'EXCD2', 'PERIOD', 'YEAR', 'VALTYPE']"
   ]
  },
  {
   "cell_type": "code",
   "execution_count": 7,
   "metadata": {},
   "outputs": [],
   "source": [
    "# category = data.select_dtypes(include = ['object']).columns"
   ]
  },
  {
   "cell_type": "code",
   "execution_count": 8,
   "metadata": {},
   "outputs": [
    {
     "data": {
      "text/plain": [
       "True"
      ]
     },
     "execution_count": 8,
     "metadata": {},
     "output_type": "execute_result"
    }
   ],
   "source": [
    "len(num_cols) + len(cat_cols) == 31"
   ]
  },
  {
   "cell_type": "code",
   "execution_count": 9,
   "metadata": {},
   "outputs": [],
   "source": [
    "num_dt = data[num_cols]\n",
    "cat_dt = data[cat_cols]"
   ]
  },
  {
   "cell_type": "code",
   "execution_count": 10,
   "metadata": {},
   "outputs": [],
   "source": [
    "pd.set_option('display.float_format',lambda x : '%.2f' % x)"
   ]
  },
  {
   "cell_type": "code",
   "execution_count": 11,
   "metadata": {},
   "outputs": [
    {
     "data": {
      "text/html": [
       "<div>\n",
       "<style scoped>\n",
       "    .dataframe tbody tr th:only-of-type {\n",
       "        vertical-align: middle;\n",
       "    }\n",
       "\n",
       "    .dataframe tbody tr th {\n",
       "        vertical-align: top;\n",
       "    }\n",
       "\n",
       "    .dataframe thead th {\n",
       "        text-align: right;\n",
       "    }\n",
       "</style>\n",
       "<table border=\"1\" class=\"dataframe\">\n",
       "  <thead>\n",
       "    <tr style=\"text-align: right;\">\n",
       "      <th></th>\n",
       "      <th>Data Type</th>\n",
       "      <th># Nonnull records</th>\n",
       "      <th># Non-zero records</th>\n",
       "      <th>% Populated</th>\n",
       "      <th># Unique values</th>\n",
       "      <th>Mean</th>\n",
       "      <th>Std</th>\n",
       "      <th>Min</th>\n",
       "      <th>Max</th>\n",
       "    </tr>\n",
       "  </thead>\n",
       "  <tbody>\n",
       "    <tr>\n",
       "      <th>LTFRONT</th>\n",
       "      <td>int64</td>\n",
       "      <td>1070994</td>\n",
       "      <td>901886</td>\n",
       "      <td>100.00</td>\n",
       "      <td>1297</td>\n",
       "      <td>36.64</td>\n",
       "      <td>74.03</td>\n",
       "      <td>0.00</td>\n",
       "      <td>9999.00</td>\n",
       "    </tr>\n",
       "    <tr>\n",
       "      <th>LTDEPTH</th>\n",
       "      <td>int64</td>\n",
       "      <td>1070994</td>\n",
       "      <td>900866</td>\n",
       "      <td>100.00</td>\n",
       "      <td>1370</td>\n",
       "      <td>88.86</td>\n",
       "      <td>76.40</td>\n",
       "      <td>0.00</td>\n",
       "      <td>9999.00</td>\n",
       "    </tr>\n",
       "    <tr>\n",
       "      <th>STORIES</th>\n",
       "      <td>float64</td>\n",
       "      <td>1014730</td>\n",
       "      <td>1070994</td>\n",
       "      <td>94.75</td>\n",
       "      <td>111</td>\n",
       "      <td>5.01</td>\n",
       "      <td>8.37</td>\n",
       "      <td>1.00</td>\n",
       "      <td>119.00</td>\n",
       "    </tr>\n",
       "    <tr>\n",
       "      <th>FULLVAL</th>\n",
       "      <td>float64</td>\n",
       "      <td>1070994</td>\n",
       "      <td>1057987</td>\n",
       "      <td>100.00</td>\n",
       "      <td>109324</td>\n",
       "      <td>874264.51</td>\n",
       "      <td>11582430.99</td>\n",
       "      <td>0.00</td>\n",
       "      <td>6150000000.00</td>\n",
       "    </tr>\n",
       "    <tr>\n",
       "      <th>AVLAND</th>\n",
       "      <td>float64</td>\n",
       "      <td>1070994</td>\n",
       "      <td>1057985</td>\n",
       "      <td>100.00</td>\n",
       "      <td>70921</td>\n",
       "      <td>85067.92</td>\n",
       "      <td>4057260.06</td>\n",
       "      <td>0.00</td>\n",
       "      <td>2668500000.00</td>\n",
       "    </tr>\n",
       "    <tr>\n",
       "      <th>AVTOT</th>\n",
       "      <td>float64</td>\n",
       "      <td>1070994</td>\n",
       "      <td>1057987</td>\n",
       "      <td>100.00</td>\n",
       "      <td>112914</td>\n",
       "      <td>227238.17</td>\n",
       "      <td>6877529.31</td>\n",
       "      <td>0.00</td>\n",
       "      <td>4668308947.00</td>\n",
       "    </tr>\n",
       "    <tr>\n",
       "      <th>EXLAND</th>\n",
       "      <td>float64</td>\n",
       "      <td>1070994</td>\n",
       "      <td>579295</td>\n",
       "      <td>100.00</td>\n",
       "      <td>33419</td>\n",
       "      <td>36423.89</td>\n",
       "      <td>3981575.79</td>\n",
       "      <td>0.00</td>\n",
       "      <td>2668500000.00</td>\n",
       "    </tr>\n",
       "    <tr>\n",
       "      <th>EXTOT</th>\n",
       "      <td>float64</td>\n",
       "      <td>1070994</td>\n",
       "      <td>638422</td>\n",
       "      <td>100.00</td>\n",
       "      <td>64255</td>\n",
       "      <td>91186.98</td>\n",
       "      <td>6508402.82</td>\n",
       "      <td>0.00</td>\n",
       "      <td>4668308947.00</td>\n",
       "    </tr>\n",
       "    <tr>\n",
       "      <th>BLDFRONT</th>\n",
       "      <td>int64</td>\n",
       "      <td>1070994</td>\n",
       "      <td>842179</td>\n",
       "      <td>100.00</td>\n",
       "      <td>612</td>\n",
       "      <td>23.04</td>\n",
       "      <td>35.58</td>\n",
       "      <td>0.00</td>\n",
       "      <td>7575.00</td>\n",
       "    </tr>\n",
       "    <tr>\n",
       "      <th>BLDDEPTH</th>\n",
       "      <td>int64</td>\n",
       "      <td>1070994</td>\n",
       "      <td>842141</td>\n",
       "      <td>100.00</td>\n",
       "      <td>621</td>\n",
       "      <td>39.92</td>\n",
       "      <td>42.71</td>\n",
       "      <td>0.00</td>\n",
       "      <td>9393.00</td>\n",
       "    </tr>\n",
       "    <tr>\n",
       "      <th>AVLAND2</th>\n",
       "      <td>float64</td>\n",
       "      <td>282726</td>\n",
       "      <td>1070994</td>\n",
       "      <td>26.40</td>\n",
       "      <td>58591</td>\n",
       "      <td>246235.72</td>\n",
       "      <td>6178962.56</td>\n",
       "      <td>3.00</td>\n",
       "      <td>2371005000.00</td>\n",
       "    </tr>\n",
       "    <tr>\n",
       "      <th>AVTOT2</th>\n",
       "      <td>float64</td>\n",
       "      <td>282732</td>\n",
       "      <td>1070994</td>\n",
       "      <td>26.40</td>\n",
       "      <td>111360</td>\n",
       "      <td>713911.44</td>\n",
       "      <td>11652528.95</td>\n",
       "      <td>3.00</td>\n",
       "      <td>4501180002.00</td>\n",
       "    </tr>\n",
       "    <tr>\n",
       "      <th>EXLAND2</th>\n",
       "      <td>float64</td>\n",
       "      <td>87449</td>\n",
       "      <td>1070994</td>\n",
       "      <td>8.17</td>\n",
       "      <td>22195</td>\n",
       "      <td>351235.68</td>\n",
       "      <td>10802212.67</td>\n",
       "      <td>1.00</td>\n",
       "      <td>2371005000.00</td>\n",
       "    </tr>\n",
       "    <tr>\n",
       "      <th>EXTOT2</th>\n",
       "      <td>float64</td>\n",
       "      <td>130828</td>\n",
       "      <td>1070994</td>\n",
       "      <td>12.22</td>\n",
       "      <td>48348</td>\n",
       "      <td>656768.28</td>\n",
       "      <td>16072510.17</td>\n",
       "      <td>7.00</td>\n",
       "      <td>4501180002.00</td>\n",
       "    </tr>\n",
       "  </tbody>\n",
       "</table>\n",
       "</div>"
      ],
      "text/plain": [
       "         Data Type  # Nonnull records  # Non-zero records  % Populated  \\\n",
       "LTFRONT      int64            1070994              901886       100.00   \n",
       "LTDEPTH      int64            1070994              900866       100.00   \n",
       "STORIES    float64            1014730             1070994        94.75   \n",
       "FULLVAL    float64            1070994             1057987       100.00   \n",
       "AVLAND     float64            1070994             1057985       100.00   \n",
       "AVTOT      float64            1070994             1057987       100.00   \n",
       "EXLAND     float64            1070994              579295       100.00   \n",
       "EXTOT      float64            1070994              638422       100.00   \n",
       "BLDFRONT     int64            1070994              842179       100.00   \n",
       "BLDDEPTH     int64            1070994              842141       100.00   \n",
       "AVLAND2    float64             282726             1070994        26.40   \n",
       "AVTOT2     float64             282732             1070994        26.40   \n",
       "EXLAND2    float64              87449             1070994         8.17   \n",
       "EXTOT2     float64             130828             1070994        12.22   \n",
       "\n",
       "          # Unique values      Mean         Std  Min           Max  \n",
       "LTFRONT              1297     36.64       74.03 0.00       9999.00  \n",
       "LTDEPTH              1370     88.86       76.40 0.00       9999.00  \n",
       "STORIES               111      5.01        8.37 1.00        119.00  \n",
       "FULLVAL            109324 874264.51 11582430.99 0.00 6150000000.00  \n",
       "AVLAND              70921  85067.92  4057260.06 0.00 2668500000.00  \n",
       "AVTOT              112914 227238.17  6877529.31 0.00 4668308947.00  \n",
       "EXLAND              33419  36423.89  3981575.79 0.00 2668500000.00  \n",
       "EXTOT               64255  91186.98  6508402.82 0.00 4668308947.00  \n",
       "BLDFRONT              612     23.04       35.58 0.00       7575.00  \n",
       "BLDDEPTH              621     39.92       42.71 0.00       9393.00  \n",
       "AVLAND2             58591 246235.72  6178962.56 3.00 2371005000.00  \n",
       "AVTOT2             111360 713911.44 11652528.95 3.00 4501180002.00  \n",
       "EXLAND2             22195 351235.68 10802212.67 1.00 2371005000.00  \n",
       "EXTOT2              48348 656768.28 16072510.17 7.00 4501180002.00  "
      ]
     },
     "execution_count": 11,
     "metadata": {},
     "output_type": "execute_result"
    }
   ],
   "source": [
    "# summary statistics-numerical variables\n",
    "summ_num = pd.DataFrame(index = num_dt.columns)\n",
    "summ_num['Data Type'] = num_dt.dtypes.values\n",
    "summ_num['# Nonnull records'] = num_dt.count().values\n",
    "summ_num['# Non-zero records'] = num_dt.astype(bool).sum(axis=0)\n",
    "summ_num['% Populated'] = round(summ_num['# Nonnull records']/num_dt.shape[0]*100,2)\n",
    "summ_num['# Unique values'] = num_dt.nunique().values\n",
    "summ_num['Mean'] = round(num_dt.mean(),2)\n",
    "summ_num['Std'] = round(num_dt.std(),2)\n",
    "summ_num['Min'] = round(num_dt.min(),2)\n",
    "summ_num['Max'] = round(num_dt.max(),2)\n",
    "summ_num"
   ]
  },
  {
   "cell_type": "code",
   "execution_count": 12,
   "metadata": {},
   "outputs": [],
   "source": [
    "summ_cat = pd.DataFrame(index = cat_dt.columns)\n",
    "summ_cat['Data Type'] = cat_dt.dtypes.values\n",
    "summ_cat['# Nonnull records'] = cat_dt.count().values\n",
    "summ_cat['% Populated'] = round(summ_cat['# Nonnull records']/cat_dt.shape[0]*100,2)\n",
    "summ_cat['# Unique values'] = cat_dt.nunique().values"
   ]
  },
  {
   "cell_type": "code",
   "execution_count": 13,
   "metadata": {},
   "outputs": [],
   "source": [
    "temp = []\n",
    "for col in cat_cols:\n",
    "    temp.append(cat_dt[col].value_counts().idxmax())\n",
    "summ_cat['Most common value'] = temp"
   ]
  },
  {
   "cell_type": "code",
   "execution_count": 14,
   "metadata": {},
   "outputs": [
    {
     "data": {
      "text/html": [
       "<div>\n",
       "<style scoped>\n",
       "    .dataframe tbody tr th:only-of-type {\n",
       "        vertical-align: middle;\n",
       "    }\n",
       "\n",
       "    .dataframe tbody tr th {\n",
       "        vertical-align: top;\n",
       "    }\n",
       "\n",
       "    .dataframe thead th {\n",
       "        text-align: right;\n",
       "    }\n",
       "</style>\n",
       "<table border=\"1\" class=\"dataframe\">\n",
       "  <thead>\n",
       "    <tr style=\"text-align: right;\">\n",
       "      <th></th>\n",
       "      <th>Data Type</th>\n",
       "      <th># Nonnull records</th>\n",
       "      <th>% Populated</th>\n",
       "      <th># Unique values</th>\n",
       "      <th>Most common value</th>\n",
       "    </tr>\n",
       "  </thead>\n",
       "  <tbody>\n",
       "    <tr>\n",
       "      <th>BBLE</th>\n",
       "      <td>object</td>\n",
       "      <td>1070994</td>\n",
       "      <td>100.00</td>\n",
       "      <td>1070994</td>\n",
       "      <td>4000341043</td>\n",
       "    </tr>\n",
       "    <tr>\n",
       "      <th>B</th>\n",
       "      <td>int64</td>\n",
       "      <td>1070994</td>\n",
       "      <td>100.00</td>\n",
       "      <td>5</td>\n",
       "      <td>4</td>\n",
       "    </tr>\n",
       "    <tr>\n",
       "      <th>BLOCK</th>\n",
       "      <td>int64</td>\n",
       "      <td>1070994</td>\n",
       "      <td>100.00</td>\n",
       "      <td>13984</td>\n",
       "      <td>3944</td>\n",
       "    </tr>\n",
       "    <tr>\n",
       "      <th>LOT</th>\n",
       "      <td>int64</td>\n",
       "      <td>1070994</td>\n",
       "      <td>100.00</td>\n",
       "      <td>6366</td>\n",
       "      <td>1</td>\n",
       "    </tr>\n",
       "    <tr>\n",
       "      <th>EASEMENT</th>\n",
       "      <td>object</td>\n",
       "      <td>4636</td>\n",
       "      <td>0.43</td>\n",
       "      <td>12</td>\n",
       "      <td>E</td>\n",
       "    </tr>\n",
       "    <tr>\n",
       "      <th>OWNER</th>\n",
       "      <td>object</td>\n",
       "      <td>1039249</td>\n",
       "      <td>97.04</td>\n",
       "      <td>863346</td>\n",
       "      <td>PARKCHESTER PRESERVAT</td>\n",
       "    </tr>\n",
       "    <tr>\n",
       "      <th>BLDGCL</th>\n",
       "      <td>object</td>\n",
       "      <td>1070994</td>\n",
       "      <td>100.00</td>\n",
       "      <td>200</td>\n",
       "      <td>R4</td>\n",
       "    </tr>\n",
       "    <tr>\n",
       "      <th>TAXCLASS</th>\n",
       "      <td>object</td>\n",
       "      <td>1070994</td>\n",
       "      <td>100.00</td>\n",
       "      <td>11</td>\n",
       "      <td>1</td>\n",
       "    </tr>\n",
       "    <tr>\n",
       "      <th>EXT</th>\n",
       "      <td>object</td>\n",
       "      <td>354305</td>\n",
       "      <td>33.08</td>\n",
       "      <td>3</td>\n",
       "      <td>G</td>\n",
       "    </tr>\n",
       "    <tr>\n",
       "      <th>EXCD1</th>\n",
       "      <td>float64</td>\n",
       "      <td>638488</td>\n",
       "      <td>59.62</td>\n",
       "      <td>129</td>\n",
       "      <td>1017.00</td>\n",
       "    </tr>\n",
       "    <tr>\n",
       "      <th>STADDR</th>\n",
       "      <td>object</td>\n",
       "      <td>1070318</td>\n",
       "      <td>99.94</td>\n",
       "      <td>839280</td>\n",
       "      <td>501 SURF AVENUE</td>\n",
       "    </tr>\n",
       "    <tr>\n",
       "      <th>ZIP</th>\n",
       "      <td>float64</td>\n",
       "      <td>1041104</td>\n",
       "      <td>97.21</td>\n",
       "      <td>196</td>\n",
       "      <td>10314.00</td>\n",
       "    </tr>\n",
       "    <tr>\n",
       "      <th>EXMPTCL</th>\n",
       "      <td>object</td>\n",
       "      <td>15579</td>\n",
       "      <td>1.45</td>\n",
       "      <td>14</td>\n",
       "      <td>X1</td>\n",
       "    </tr>\n",
       "    <tr>\n",
       "      <th>EXCD2</th>\n",
       "      <td>float64</td>\n",
       "      <td>92948</td>\n",
       "      <td>8.68</td>\n",
       "      <td>60</td>\n",
       "      <td>1017.00</td>\n",
       "    </tr>\n",
       "    <tr>\n",
       "      <th>PERIOD</th>\n",
       "      <td>object</td>\n",
       "      <td>1070994</td>\n",
       "      <td>100.00</td>\n",
       "      <td>1</td>\n",
       "      <td>FINAL</td>\n",
       "    </tr>\n",
       "    <tr>\n",
       "      <th>YEAR</th>\n",
       "      <td>object</td>\n",
       "      <td>1070994</td>\n",
       "      <td>100.00</td>\n",
       "      <td>1</td>\n",
       "      <td>2010/11</td>\n",
       "    </tr>\n",
       "    <tr>\n",
       "      <th>VALTYPE</th>\n",
       "      <td>object</td>\n",
       "      <td>1070994</td>\n",
       "      <td>100.00</td>\n",
       "      <td>1</td>\n",
       "      <td>AC-TR</td>\n",
       "    </tr>\n",
       "  </tbody>\n",
       "</table>\n",
       "</div>"
      ],
      "text/plain": [
       "         Data Type  # Nonnull records  % Populated  # Unique values  \\\n",
       "BBLE        object            1070994       100.00          1070994   \n",
       "B            int64            1070994       100.00                5   \n",
       "BLOCK        int64            1070994       100.00            13984   \n",
       "LOT          int64            1070994       100.00             6366   \n",
       "EASEMENT    object               4636         0.43               12   \n",
       "OWNER       object            1039249        97.04           863346   \n",
       "BLDGCL      object            1070994       100.00              200   \n",
       "TAXCLASS    object            1070994       100.00               11   \n",
       "EXT         object             354305        33.08                3   \n",
       "EXCD1      float64             638488        59.62              129   \n",
       "STADDR      object            1070318        99.94           839280   \n",
       "ZIP        float64            1041104        97.21              196   \n",
       "EXMPTCL     object              15579         1.45               14   \n",
       "EXCD2      float64              92948         8.68               60   \n",
       "PERIOD      object            1070994       100.00                1   \n",
       "YEAR        object            1070994       100.00                1   \n",
       "VALTYPE     object            1070994       100.00                1   \n",
       "\n",
       "              Most common value  \n",
       "BBLE                 4000341043  \n",
       "B                             4  \n",
       "BLOCK                      3944  \n",
       "LOT                           1  \n",
       "EASEMENT                      E  \n",
       "OWNER     PARKCHESTER PRESERVAT  \n",
       "BLDGCL                       R4  \n",
       "TAXCLASS                      1  \n",
       "EXT                           G  \n",
       "EXCD1                   1017.00  \n",
       "STADDR          501 SURF AVENUE  \n",
       "ZIP                    10314.00  \n",
       "EXMPTCL                      X1  \n",
       "EXCD2                   1017.00  \n",
       "PERIOD                    FINAL  \n",
       "YEAR                    2010/11  \n",
       "VALTYPE                   AC-TR  "
      ]
     },
     "execution_count": 14,
     "metadata": {},
     "output_type": "execute_result"
    }
   ],
   "source": [
    "summ_cat"
   ]
  },
  {
   "cell_type": "code",
   "execution_count": 15,
   "metadata": {},
   "outputs": [
    {
     "data": {
      "text/plain": [
       "Index(['BBLE', 'B', 'BLOCK', 'LOT', 'EASEMENT', 'OWNER', 'BLDGCL', 'TAXCLASS',\n",
       "       'LTFRONT', 'LTDEPTH', 'EXT', 'STORIES', 'FULLVAL', 'AVLAND', 'AVTOT',\n",
       "       'EXLAND', 'EXTOT', 'EXCD1', 'STADDR', 'ZIP', 'EXMPTCL', 'BLDFRONT',\n",
       "       'BLDDEPTH', 'AVLAND2', 'AVTOT2', 'EXLAND2', 'EXTOT2', 'EXCD2', 'PERIOD',\n",
       "       'YEAR', 'VALTYPE'],\n",
       "      dtype='object')"
      ]
     },
     "execution_count": 15,
     "metadata": {},
     "output_type": "execute_result"
    }
   ],
   "source": [
    "data.columns"
   ]
  },
  {
   "cell_type": "code",
   "execution_count": 16,
   "metadata": {},
   "outputs": [
    {
     "data": {
      "text/html": [
       "<div>\n",
       "<style scoped>\n",
       "    .dataframe tbody tr th:only-of-type {\n",
       "        vertical-align: middle;\n",
       "    }\n",
       "\n",
       "    .dataframe tbody tr th {\n",
       "        vertical-align: top;\n",
       "    }\n",
       "\n",
       "    .dataframe thead th {\n",
       "        text-align: right;\n",
       "    }\n",
       "</style>\n",
       "<table border=\"1\" class=\"dataframe\">\n",
       "  <thead>\n",
       "    <tr style=\"text-align: right;\">\n",
       "      <th></th>\n",
       "      <th>BBLE</th>\n",
       "      <th>B</th>\n",
       "      <th>BLOCK</th>\n",
       "      <th>LOT</th>\n",
       "      <th>EASEMENT</th>\n",
       "      <th>OWNER</th>\n",
       "      <th>BLDGCL</th>\n",
       "      <th>TAXCLASS</th>\n",
       "      <th>LTFRONT</th>\n",
       "      <th>LTDEPTH</th>\n",
       "      <th>...</th>\n",
       "      <th>BLDFRONT</th>\n",
       "      <th>BLDDEPTH</th>\n",
       "      <th>AVLAND2</th>\n",
       "      <th>AVTOT2</th>\n",
       "      <th>EXLAND2</th>\n",
       "      <th>EXTOT2</th>\n",
       "      <th>EXCD2</th>\n",
       "      <th>PERIOD</th>\n",
       "      <th>YEAR</th>\n",
       "      <th>VALTYPE</th>\n",
       "    </tr>\n",
       "    <tr>\n",
       "      <th>RECORD</th>\n",
       "      <th></th>\n",
       "      <th></th>\n",
       "      <th></th>\n",
       "      <th></th>\n",
       "      <th></th>\n",
       "      <th></th>\n",
       "      <th></th>\n",
       "      <th></th>\n",
       "      <th></th>\n",
       "      <th></th>\n",
       "      <th></th>\n",
       "      <th></th>\n",
       "      <th></th>\n",
       "      <th></th>\n",
       "      <th></th>\n",
       "      <th></th>\n",
       "      <th></th>\n",
       "      <th></th>\n",
       "      <th></th>\n",
       "      <th></th>\n",
       "      <th></th>\n",
       "    </tr>\n",
       "  </thead>\n",
       "  <tbody>\n",
       "    <tr>\n",
       "      <th>1</th>\n",
       "      <td>1000010101</td>\n",
       "      <td>1</td>\n",
       "      <td>1</td>\n",
       "      <td>101</td>\n",
       "      <td>NaN</td>\n",
       "      <td>U S GOVT LAND &amp; BLDGS</td>\n",
       "      <td>P7</td>\n",
       "      <td>4</td>\n",
       "      <td>500</td>\n",
       "      <td>1046</td>\n",
       "      <td>...</td>\n",
       "      <td>0</td>\n",
       "      <td>0</td>\n",
       "      <td>3775500.00</td>\n",
       "      <td>8613000.00</td>\n",
       "      <td>3775500.00</td>\n",
       "      <td>8613000.00</td>\n",
       "      <td>nan</td>\n",
       "      <td>FINAL</td>\n",
       "      <td>2010/11</td>\n",
       "      <td>AC-TR</td>\n",
       "    </tr>\n",
       "    <tr>\n",
       "      <th>2</th>\n",
       "      <td>1000010201</td>\n",
       "      <td>1</td>\n",
       "      <td>1</td>\n",
       "      <td>201</td>\n",
       "      <td>NaN</td>\n",
       "      <td>U S GOVT LAND &amp; BLDGS</td>\n",
       "      <td>Z9</td>\n",
       "      <td>4</td>\n",
       "      <td>27</td>\n",
       "      <td>0</td>\n",
       "      <td>...</td>\n",
       "      <td>0</td>\n",
       "      <td>0</td>\n",
       "      <td>11111400.00</td>\n",
       "      <td>80690400.00</td>\n",
       "      <td>11111400.00</td>\n",
       "      <td>80690400.00</td>\n",
       "      <td>nan</td>\n",
       "      <td>FINAL</td>\n",
       "      <td>2010/11</td>\n",
       "      <td>AC-TR</td>\n",
       "    </tr>\n",
       "    <tr>\n",
       "      <th>3</th>\n",
       "      <td>1000020001</td>\n",
       "      <td>1</td>\n",
       "      <td>2</td>\n",
       "      <td>1</td>\n",
       "      <td>NaN</td>\n",
       "      <td>DEPT OF GENERAL SERVI</td>\n",
       "      <td>Y7</td>\n",
       "      <td>4</td>\n",
       "      <td>709</td>\n",
       "      <td>564</td>\n",
       "      <td>...</td>\n",
       "      <td>709</td>\n",
       "      <td>564</td>\n",
       "      <td>32321790.00</td>\n",
       "      <td>40179510.00</td>\n",
       "      <td>32321790.00</td>\n",
       "      <td>40179510.00</td>\n",
       "      <td>nan</td>\n",
       "      <td>FINAL</td>\n",
       "      <td>2010/11</td>\n",
       "      <td>AC-TR</td>\n",
       "    </tr>\n",
       "    <tr>\n",
       "      <th>4</th>\n",
       "      <td>1000020023</td>\n",
       "      <td>1</td>\n",
       "      <td>2</td>\n",
       "      <td>23</td>\n",
       "      <td>NaN</td>\n",
       "      <td>DEPARTMENT OF BUSINES</td>\n",
       "      <td>T2</td>\n",
       "      <td>4</td>\n",
       "      <td>793</td>\n",
       "      <td>551</td>\n",
       "      <td>...</td>\n",
       "      <td>85</td>\n",
       "      <td>551</td>\n",
       "      <td>13644000.00</td>\n",
       "      <td>15750000.00</td>\n",
       "      <td>13644000.00</td>\n",
       "      <td>15750000.00</td>\n",
       "      <td>nan</td>\n",
       "      <td>FINAL</td>\n",
       "      <td>2010/11</td>\n",
       "      <td>AC-TR</td>\n",
       "    </tr>\n",
       "    <tr>\n",
       "      <th>5</th>\n",
       "      <td>1000030001</td>\n",
       "      <td>1</td>\n",
       "      <td>3</td>\n",
       "      <td>1</td>\n",
       "      <td>NaN</td>\n",
       "      <td>PARKS AND RECREATION</td>\n",
       "      <td>Q1</td>\n",
       "      <td>4</td>\n",
       "      <td>323</td>\n",
       "      <td>1260</td>\n",
       "      <td>...</td>\n",
       "      <td>89</td>\n",
       "      <td>57</td>\n",
       "      <td>106348680.00</td>\n",
       "      <td>107758350.00</td>\n",
       "      <td>106348680.00</td>\n",
       "      <td>107758350.00</td>\n",
       "      <td>nan</td>\n",
       "      <td>FINAL</td>\n",
       "      <td>2010/11</td>\n",
       "      <td>AC-TR</td>\n",
       "    </tr>\n",
       "  </tbody>\n",
       "</table>\n",
       "<p>5 rows × 31 columns</p>\n",
       "</div>"
      ],
      "text/plain": [
       "              BBLE  B  BLOCK  LOT EASEMENT                  OWNER BLDGCL  \\\n",
       "RECORD                                                                     \n",
       "1       1000010101  1      1  101      NaN  U S GOVT LAND & BLDGS     P7   \n",
       "2       1000010201  1      1  201      NaN  U S GOVT LAND & BLDGS     Z9   \n",
       "3       1000020001  1      2    1      NaN  DEPT OF GENERAL SERVI     Y7   \n",
       "4       1000020023  1      2   23      NaN  DEPARTMENT OF BUSINES     T2   \n",
       "5       1000030001  1      3    1      NaN   PARKS AND RECREATION     Q1   \n",
       "\n",
       "       TAXCLASS  LTFRONT  LTDEPTH  ... BLDFRONT  BLDDEPTH      AVLAND2  \\\n",
       "RECORD                             ...                                   \n",
       "1             4      500     1046  ...        0         0   3775500.00   \n",
       "2             4       27        0  ...        0         0  11111400.00   \n",
       "3             4      709      564  ...      709       564  32321790.00   \n",
       "4             4      793      551  ...       85       551  13644000.00   \n",
       "5             4      323     1260  ...       89        57 106348680.00   \n",
       "\n",
       "             AVTOT2      EXLAND2       EXTOT2  EXCD2  PERIOD     YEAR  VALTYPE  \n",
       "RECORD                                                                          \n",
       "1        8613000.00   3775500.00   8613000.00    nan   FINAL  2010/11    AC-TR  \n",
       "2       80690400.00  11111400.00  80690400.00    nan   FINAL  2010/11    AC-TR  \n",
       "3       40179510.00  32321790.00  40179510.00    nan   FINAL  2010/11    AC-TR  \n",
       "4       15750000.00  13644000.00  15750000.00    nan   FINAL  2010/11    AC-TR  \n",
       "5      107758350.00 106348680.00 107758350.00    nan   FINAL  2010/11    AC-TR  \n",
       "\n",
       "[5 rows x 31 columns]"
      ]
     },
     "execution_count": 16,
     "metadata": {},
     "output_type": "execute_result"
    }
   ],
   "source": [
    "data.head()"
   ]
  },
  {
   "cell_type": "markdown",
   "metadata": {},
   "source": [
    "https://www1.nyc.gov/site/finance/taxes/definitions-of-property-assessment-terms.page"
   ]
  },
  {
   "cell_type": "markdown",
   "metadata": {},
   "source": [
    "Field 1 \\\n",
    "Field Name: BBLE \\\n",
    "Description: Concatenation of Borough code, block code, LOT code;one unique number for each record."
   ]
  },
  {
   "cell_type": "markdown",
   "metadata": {},
   "source": [
    "Field 2 \\\n",
    "Field Name: B \\\n",
    "Description: Borough Codes"
   ]
  },
  {
   "cell_type": "code",
   "execution_count": 64,
   "metadata": {},
   "outputs": [
    {
     "data": {
      "text/plain": [
       "Text(0.5, 1.0, 'Number of properties in different boroughs')"
      ]
     },
     "execution_count": 64,
     "metadata": {},
     "output_type": "execute_result"
    },
    {
     "data": {
      "image/png": "[encoded data removed]",
      "text/plain": [
       "<Figure size 432x288 with 1 Axes>"
      ]
     },
     "metadata": {},
     "output_type": "display_data"
    }
   ],
   "source": [
    "sns.set_theme(style = 'darkgrid')\n",
    "fig1 = sns.countplot(x = 'B',data = data, order = data['B'].value_counts().index)\n",
    "plt.title(\"Number of properties in different boroughs\")"
   ]
  },
  {
   "cell_type": "markdown",
   "metadata": {},
   "source": [
    "Field 3 \\\n",
    "Field Name: BLOCK \\\n",
    "Description: Up to 5 digits number representing Block codes within different Boroughs"
   ]
  },
  {
   "cell_type": "code",
   "execution_count": 51,
   "metadata": {},
   "outputs": [
    {
     "data": {
      "text/html": [
       "<div>\n",
       "<style scoped>\n",
       "    .dataframe tbody tr th:only-of-type {\n",
       "        vertical-align: middle;\n",
       "    }\n",
       "\n",
       "    .dataframe tbody tr th {\n",
       "        vertical-align: top;\n",
       "    }\n",
       "\n",
       "    .dataframe thead th {\n",
       "        text-align: right;\n",
       "    }\n",
       "</style>\n",
       "<table border=\"1\" class=\"dataframe\">\n",
       "  <thead>\n",
       "    <tr style=\"text-align: right;\">\n",
       "      <th></th>\n",
       "      <th>Unique_values_BLOCK</th>\n",
       "      <th>Counts</th>\n",
       "    </tr>\n",
       "  </thead>\n",
       "  <tbody>\n",
       "    <tr>\n",
       "      <th>0</th>\n",
       "      <td>3944</td>\n",
       "      <td>3888</td>\n",
       "    </tr>\n",
       "    <tr>\n",
       "      <th>1</th>\n",
       "      <td>16</td>\n",
       "      <td>3786</td>\n",
       "    </tr>\n",
       "    <tr>\n",
       "      <th>2</th>\n",
       "      <td>3943</td>\n",
       "      <td>3424</td>\n",
       "    </tr>\n",
       "    <tr>\n",
       "      <th>3</th>\n",
       "      <td>3938</td>\n",
       "      <td>2794</td>\n",
       "    </tr>\n",
       "    <tr>\n",
       "      <th>4</th>\n",
       "      <td>1171</td>\n",
       "      <td>2535</td>\n",
       "    </tr>\n",
       "    <tr>\n",
       "      <th>5</th>\n",
       "      <td>3937</td>\n",
       "      <td>2275</td>\n",
       "    </tr>\n",
       "    <tr>\n",
       "      <th>6</th>\n",
       "      <td>1833</td>\n",
       "      <td>1774</td>\n",
       "    </tr>\n",
       "    <tr>\n",
       "      <th>7</th>\n",
       "      <td>2450</td>\n",
       "      <td>1651</td>\n",
       "    </tr>\n",
       "    <tr>\n",
       "      <th>8</th>\n",
       "      <td>1047</td>\n",
       "      <td>1480</td>\n",
       "    </tr>\n",
       "    <tr>\n",
       "      <th>9</th>\n",
       "      <td>7279</td>\n",
       "      <td>1302</td>\n",
       "    </tr>\n",
       "    <tr>\n",
       "      <th>10</th>\n",
       "      <td>5893</td>\n",
       "      <td>1295</td>\n",
       "    </tr>\n",
       "    <tr>\n",
       "      <th>11</th>\n",
       "      <td>8720</td>\n",
       "      <td>1281</td>\n",
       "    </tr>\n",
       "    <tr>\n",
       "      <th>12</th>\n",
       "      <td>936</td>\n",
       "      <td>1151</td>\n",
       "    </tr>\n",
       "    <tr>\n",
       "      <th>13</th>\n",
       "      <td>1115</td>\n",
       "      <td>1090</td>\n",
       "    </tr>\n",
       "    <tr>\n",
       "      <th>14</th>\n",
       "      <td>1320</td>\n",
       "      <td>1049</td>\n",
       "    </tr>\n",
       "  </tbody>\n",
       "</table>\n",
       "</div>"
      ],
      "text/plain": [
       "    Unique_values_BLOCK  Counts\n",
       "0                  3944    3888\n",
       "1                    16    3786\n",
       "2                  3943    3424\n",
       "3                  3938    2794\n",
       "4                  1171    2535\n",
       "5                  3937    2275\n",
       "6                  1833    1774\n",
       "7                  2450    1651\n",
       "8                  1047    1480\n",
       "9                  7279    1302\n",
       "10                 5893    1295\n",
       "11                 8720    1281\n",
       "12                  936    1151\n",
       "13                 1115    1090\n",
       "14                 1320    1049"
      ]
     },
     "execution_count": 51,
     "metadata": {},
     "output_type": "execute_result"
    }
   ],
   "source": [
    "BLOCK = cat_dt['BLOCK'].value_counts().rename_axis('Unique_values_BLOCK').reset_index(name='Counts')\n",
    "BLOCK[:15]"
   ]
  },
  {
   "cell_type": "markdown",
   "metadata": {},
   "source": [
    "Field 4 \\\n",
    "Field Name: LOT \\\n",
    "Description: Up to 4 digits number representing Lot codes within different Borough & Block"
   ]
  },
  {
   "cell_type": "code",
   "execution_count": 52,
   "metadata": {},
   "outputs": [
    {
     "data": {
      "text/html": [
       "<div>\n",
       "<style scoped>\n",
       "    .dataframe tbody tr th:only-of-type {\n",
       "        vertical-align: middle;\n",
       "    }\n",
       "\n",
       "    .dataframe tbody tr th {\n",
       "        vertical-align: top;\n",
       "    }\n",
       "\n",
       "    .dataframe thead th {\n",
       "        text-align: right;\n",
       "    }\n",
       "</style>\n",
       "<table border=\"1\" class=\"dataframe\">\n",
       "  <thead>\n",
       "    <tr style=\"text-align: right;\">\n",
       "      <th></th>\n",
       "      <th>Unique_values_LOT</th>\n",
       "      <th>Counts</th>\n",
       "    </tr>\n",
       "  </thead>\n",
       "  <tbody>\n",
       "    <tr>\n",
       "      <th>0</th>\n",
       "      <td>1</td>\n",
       "      <td>24367</td>\n",
       "    </tr>\n",
       "    <tr>\n",
       "      <th>1</th>\n",
       "      <td>20</td>\n",
       "      <td>12294</td>\n",
       "    </tr>\n",
       "    <tr>\n",
       "      <th>2</th>\n",
       "      <td>15</td>\n",
       "      <td>12171</td>\n",
       "    </tr>\n",
       "    <tr>\n",
       "      <th>3</th>\n",
       "      <td>12</td>\n",
       "      <td>12143</td>\n",
       "    </tr>\n",
       "    <tr>\n",
       "      <th>4</th>\n",
       "      <td>14</td>\n",
       "      <td>12074</td>\n",
       "    </tr>\n",
       "    <tr>\n",
       "      <th>5</th>\n",
       "      <td>16</td>\n",
       "      <td>12042</td>\n",
       "    </tr>\n",
       "    <tr>\n",
       "      <th>6</th>\n",
       "      <td>17</td>\n",
       "      <td>11982</td>\n",
       "    </tr>\n",
       "    <tr>\n",
       "      <th>7</th>\n",
       "      <td>18</td>\n",
       "      <td>11979</td>\n",
       "    </tr>\n",
       "    <tr>\n",
       "      <th>8</th>\n",
       "      <td>25</td>\n",
       "      <td>11949</td>\n",
       "    </tr>\n",
       "    <tr>\n",
       "      <th>9</th>\n",
       "      <td>21</td>\n",
       "      <td>11840</td>\n",
       "    </tr>\n",
       "    <tr>\n",
       "      <th>10</th>\n",
       "      <td>23</td>\n",
       "      <td>11705</td>\n",
       "    </tr>\n",
       "    <tr>\n",
       "      <th>11</th>\n",
       "      <td>22</td>\n",
       "      <td>11665</td>\n",
       "    </tr>\n",
       "    <tr>\n",
       "      <th>12</th>\n",
       "      <td>6</td>\n",
       "      <td>11646</td>\n",
       "    </tr>\n",
       "    <tr>\n",
       "      <th>13</th>\n",
       "      <td>19</td>\n",
       "      <td>11640</td>\n",
       "    </tr>\n",
       "    <tr>\n",
       "      <th>14</th>\n",
       "      <td>30</td>\n",
       "      <td>11596</td>\n",
       "    </tr>\n",
       "  </tbody>\n",
       "</table>\n",
       "</div>"
      ],
      "text/plain": [
       "    Unique_values_LOT  Counts\n",
       "0                   1   24367\n",
       "1                  20   12294\n",
       "2                  15   12171\n",
       "3                  12   12143\n",
       "4                  14   12074\n",
       "5                  16   12042\n",
       "6                  17   11982\n",
       "7                  18   11979\n",
       "8                  25   11949\n",
       "9                  21   11840\n",
       "10                 23   11705\n",
       "11                 22   11665\n",
       "12                  6   11646\n",
       "13                 19   11640\n",
       "14                 30   11596"
      ]
     },
     "execution_count": 52,
     "metadata": {},
     "output_type": "execute_result"
    }
   ],
   "source": [
    "LOT = cat_dt['LOT'].value_counts().rename_axis('Unique_values_LOT').reset_index(name='Counts')[:15]\n",
    "LOT[:15]"
   ]
  },
  {
   "cell_type": "markdown",
   "metadata": {},
   "source": [
    "Field 5 \\\n",
    "Field Name: EASEMENT  \\\n",
    "Description: Types of easement"
   ]
  },
  {
   "cell_type": "code",
   "execution_count": 66,
   "metadata": {},
   "outputs": [
    {
     "data": {
      "text/plain": [
       "Text(0.5, 1.0, 'Number of properties with various kinds of easement')"
      ]
     },
     "execution_count": 66,
     "metadata": {},
     "output_type": "execute_result"
    },
    {
     "data": {
      "image/png": "[encoded data removed]",
      "text/plain": [
       "<Figure size 432x288 with 1 Axes>"
      ]
     },
     "metadata": {},
     "output_type": "display_data"
    }
   ],
   "source": [
    "fig2 = sns.countplot(x = 'EASEMENT', data=data, order = data['EASEMENT'].value_counts().index)\n",
    "fig2.set_yscale(\"log\")\n",
    "fig2.set_title('Number of properties with various kinds of easement')"
   ]
  },
  {
   "cell_type": "markdown",
   "metadata": {},
   "source": [
    "Field 6 \\\n",
    "Field Name: OWNER \\\n",
    "Description: Properties's owner"
   ]
  },
  {
   "cell_type": "code",
   "execution_count": 219,
   "metadata": {},
   "outputs": [
    {
     "data": {
      "text/html": [
       "<div>\n",
       "<style scoped>\n",
       "    .dataframe tbody tr th:only-of-type {\n",
       "        vertical-align: middle;\n",
       "    }\n",
       "\n",
       "    .dataframe tbody tr th {\n",
       "        vertical-align: top;\n",
       "    }\n",
       "\n",
       "    .dataframe thead th {\n",
       "        text-align: right;\n",
       "    }\n",
       "</style>\n",
       "<table border=\"1\" class=\"dataframe\">\n",
       "  <thead>\n",
       "    <tr style=\"text-align: right;\">\n",
       "      <th></th>\n",
       "      <th>Unique_values_OWNER</th>\n",
       "      <th>Counts</th>\n",
       "    </tr>\n",
       "  </thead>\n",
       "  <tbody>\n",
       "    <tr>\n",
       "      <th>863341</th>\n",
       "      <td>MARBELLA-ZELADA, DIAN</td>\n",
       "      <td>1</td>\n",
       "    </tr>\n",
       "    <tr>\n",
       "      <th>863342</th>\n",
       "      <td>WING KIN YEE</td>\n",
       "      <td>1</td>\n",
       "    </tr>\n",
       "    <tr>\n",
       "      <th>863343</th>\n",
       "      <td>WELDON BRADFORD</td>\n",
       "      <td>1</td>\n",
       "    </tr>\n",
       "    <tr>\n",
       "      <th>863344</th>\n",
       "      <td>YAN YI WONG</td>\n",
       "      <td>1</td>\n",
       "    </tr>\n",
       "    <tr>\n",
       "      <th>863345</th>\n",
       "      <td>GUBBAY, DAVID</td>\n",
       "      <td>1</td>\n",
       "    </tr>\n",
       "  </tbody>\n",
       "</table>\n",
       "</div>"
      ],
      "text/plain": [
       "          Unique_values_OWNER  Counts\n",
       "863341  MARBELLA-ZELADA, DIAN       1\n",
       "863342           WING KIN YEE       1\n",
       "863343        WELDON BRADFORD       1\n",
       "863344            YAN YI WONG       1\n",
       "863345          GUBBAY, DAVID       1"
      ]
     },
     "execution_count": 219,
     "metadata": {},
     "output_type": "execute_result"
    }
   ],
   "source": [
    "OWNER = cat_dt['OWNER'].value_counts().rename_axis('Unique_values_OWNER').reset_index(name='Counts')\n",
    "OWNER.tail()"
   ]
  },
  {
   "cell_type": "markdown",
   "metadata": {},
   "source": [
    "Field 7 \\\n",
    "Field Name: BLDGCL \\\n",
    "Description: "
   ]
  },
  {
   "cell_type": "code",
   "execution_count": 220,
   "metadata": {},
   "outputs": [
    {
     "data": {
      "text/html": [
       "<div>\n",
       "<style scoped>\n",
       "    .dataframe tbody tr th:only-of-type {\n",
       "        vertical-align: middle;\n",
       "    }\n",
       "\n",
       "    .dataframe tbody tr th {\n",
       "        vertical-align: top;\n",
       "    }\n",
       "\n",
       "    .dataframe thead th {\n",
       "        text-align: right;\n",
       "    }\n",
       "</style>\n",
       "<table border=\"1\" class=\"dataframe\">\n",
       "  <thead>\n",
       "    <tr style=\"text-align: right;\">\n",
       "      <th></th>\n",
       "      <th>Unique_values_BLDCGL</th>\n",
       "      <th>Counts</th>\n",
       "    </tr>\n",
       "  </thead>\n",
       "  <tbody>\n",
       "    <tr>\n",
       "      <th>195</th>\n",
       "      <td>I3</td>\n",
       "      <td>4</td>\n",
       "    </tr>\n",
       "    <tr>\n",
       "      <th>196</th>\n",
       "      <td>I2</td>\n",
       "      <td>4</td>\n",
       "    </tr>\n",
       "    <tr>\n",
       "      <th>197</th>\n",
       "      <td>H7</td>\n",
       "      <td>3</td>\n",
       "    </tr>\n",
       "    <tr>\n",
       "      <th>198</th>\n",
       "      <td>Y5</td>\n",
       "      <td>1</td>\n",
       "    </tr>\n",
       "    <tr>\n",
       "      <th>199</th>\n",
       "      <td>E6</td>\n",
       "      <td>1</td>\n",
       "    </tr>\n",
       "  </tbody>\n",
       "</table>\n",
       "</div>"
      ],
      "text/plain": [
       "    Unique_values_BLDCGL  Counts\n",
       "195                   I3       4\n",
       "196                   I2       4\n",
       "197                   H7       3\n",
       "198                   Y5       1\n",
       "199                   E6       1"
      ]
     },
     "execution_count": 220,
     "metadata": {},
     "output_type": "execute_result"
    }
   ],
   "source": [
    "BLDGCL = cat_dt['BLDGCL'].value_counts().rename_axis('Unique_values_BLDCGL').reset_index(name='Counts')\n",
    "BLDGCL.tail()"
   ]
  },
  {
   "cell_type": "markdown",
   "metadata": {},
   "source": [
    "Field 8 \\\n",
    "Field Name: TAXCLASS \\\n",
    "Description: Current property tax class code"
   ]
  },
  {
   "cell_type": "markdown",
   "metadata": {},
   "source": [
    "Tax Classes: Properties in New York City are divided into four classes, each treated differently under the law.\n",
    "1. Class 1: One-to three-unit, predominantly residential properties. Also includes certain vacant land and certain types of condominiums.\n",
    "2. Class 2: Residential property with 3+ units, including condos and co-ops\n",
    "3. Class 3: Utility company equipment and special franchise property\n",
    "4. Class 4: All other real property, including office buildings, factories, stores, hotels, and lofts"
   ]
  },
  {
   "cell_type": "code",
   "execution_count": 67,
   "metadata": {},
   "outputs": [
    {
     "data": {
      "text/plain": [
       "Text(0.5, 1.0, 'Number of properties with various kinds of class')"
      ]
     },
     "execution_count": 67,
     "metadata": {},
     "output_type": "execute_result"
    },
    {
     "data": {
      "image/png": "[encoded data removed]",
      "text/plain": [
       "<Figure size 432x288 with 1 Axes>"
      ]
     },
     "metadata": {},
     "output_type": "display_data"
    }
   ],
   "source": [
    "fig3 = sns.countplot(x = 'TAXCLASS', data=data, order= data['TAXCLASS'].value_counts().index)\n",
    "fig3.set_yscale(\"log\")\n",
    "fig3.set_title('Number of properties with various kinds of class')"
   ]
  },
  {
   "cell_type": "markdown",
   "metadata": {},
   "source": [
    "Field 9 \\\n",
    "Field Name: LTFRONT \\\n",
    "Description: Lot frontage in feet"
   ]
  },
  {
   "cell_type": "code",
   "execution_count": 122,
   "metadata": {},
   "outputs": [
    {
     "data": {
      "text/plain": [
       "count   1070994.00\n",
       "mean         36.64\n",
       "std          74.03\n",
       "min           0.00\n",
       "50%          25.00\n",
       "75%          40.00\n",
       "99.5%       375.00\n",
       "max        9999.00\n",
       "Name: LTFRONT, dtype: float64"
      ]
     },
     "execution_count": 122,
     "metadata": {},
     "output_type": "execute_result"
    }
   ],
   "source": [
    "data['LTFRONT'].describe(percentiles = [0.5,0.75,0.995])"
   ]
  },
  {
   "cell_type": "code",
   "execution_count": 123,
   "metadata": {},
   "outputs": [],
   "source": [
    "tmp = data[data['LTFRONT'] <= 375]"
   ]
  },
  {
   "cell_type": "code",
   "execution_count": 124,
   "metadata": {},
   "outputs": [
    {
     "name": "stderr",
     "output_type": "stream",
     "text": [
      "/Applications/anaconda3/lib/python3.7/site-packages/seaborn/distributions.py:2551: FutureWarning: `distplot` is a deprecated function and will be removed in a future version. Please adapt your code to use either `displot` (a figure-level function with similar flexibility) or `histplot` (an axes-level function for histograms).\n",
      "  warnings.warn(msg, FutureWarning)\n"
     ]
    },
    {
     "data": {
      "text/plain": [
       "Text(0.5, 1.0, 'Distribution of LTFRONT')"
      ]
     },
     "execution_count": 124,
     "metadata": {},
     "output_type": "execute_result"
    },
    {
     "data": {
      "image/png": "[encoded data removed]",
      "text/plain": [
       "<Figure size 432x288 with 1 Axes>"
      ]
     },
     "metadata": {},
     "output_type": "display_data"
    }
   ],
   "source": [
    "fig4 = sns.distplot(tmp.LTFRONT, bins = 50)\n",
    "fig4.set_title('Distribution of LTFRONT')"
   ]
  },
  {
   "cell_type": "markdown",
   "metadata": {},
   "source": [
    "Field 10 \\\n",
    "Field Name: LTDEPTH \\\n",
    "Description: Lot depth in feet "
   ]
  },
  {
   "cell_type": "code",
   "execution_count": 239,
   "metadata": {},
   "outputs": [
    {
     "data": {
      "text/plain": [
       "count    1070994.00\n",
       "mean          88.86\n",
       "std           76.40\n",
       "min            0.00\n",
       "18%           49.00\n",
       "25%           80.00\n",
       "40%          100.00\n",
       "50%          100.00\n",
       "83%          101.00\n",
       "98%          200.00\n",
       "99.95%      1056.50\n",
       "max         9999.00\n",
       "Name: LTDEPTH, dtype: float64"
      ]
     },
     "execution_count": 239,
     "metadata": {},
     "output_type": "execute_result"
    }
   ],
   "source": [
    "data['LTDEPTH'].describe(percentiles = [0.18,0.25,0.4,0.83,0.98,0.9995])"
   ]
  },
  {
   "cell_type": "code",
   "execution_count": 120,
   "metadata": {},
   "outputs": [],
   "source": [
    "tmp = data[data['LTDEPTH'] <= 425]"
   ]
  },
  {
   "cell_type": "code",
   "execution_count": 121,
   "metadata": {},
   "outputs": [
    {
     "name": "stderr",
     "output_type": "stream",
     "text": [
      "/Applications/anaconda3/lib/python3.7/site-packages/seaborn/distributions.py:2551: FutureWarning: `distplot` is a deprecated function and will be removed in a future version. Please adapt your code to use either `displot` (a figure-level function with similar flexibility) or `histplot` (an axes-level function for histograms).\n",
      "  warnings.warn(msg, FutureWarning)\n"
     ]
    },
    {
     "data": {
      "text/plain": [
       "Text(0.5, 1.0, 'Distribution of LTDEPTH')"
      ]
     },
     "execution_count": 121,
     "metadata": {},
     "output_type": "execute_result"
    },
    {
     "data": {
      "image/png": "[encoded data removed]",
      "text/plain": [
       "<Figure size 432x288 with 1 Axes>"
      ]
     },
     "metadata": {},
     "output_type": "display_data"
    }
   ],
   "source": [
    "fig5 = sns.distplot(tmp.LTDEPTH, bins = 50)\n",
    "fig5.set_yscale(\"log\")\n",
    "fig5.set_title('Distribution of LTDEPTH')"
   ]
  },
  {
   "cell_type": "markdown",
   "metadata": {},
   "source": [
    "Field 11 \\\n",
    "Field Name: EXT \\\n",
    "Description: E-Extension, G- Garage, EG- Extension and Garage "
   ]
  },
  {
   "cell_type": "code",
   "execution_count": 115,
   "metadata": {},
   "outputs": [
    {
     "data": {
      "text/plain": [
       "Text(0.5, 1.0, 'Number of properties with various kinds of extensions/garage')"
      ]
     },
     "execution_count": 115,
     "metadata": {},
     "output_type": "execute_result"
    },
    {
     "data": {
      "image/png": "[encoded data removed]",
      "text/plain": [
       "<Figure size 432x288 with 1 Axes>"
      ]
     },
     "metadata": {},
     "output_type": "display_data"
    }
   ],
   "source": [
    "fig6 = sns.countplot(x = 'EXT', data=data, order = data['EXT'].value_counts().index)\n",
    "fig6.set_title('Number of properties with various kinds of extensions/garage')"
   ]
  },
  {
   "cell_type": "markdown",
   "metadata": {},
   "source": [
    "Field 12 \\\n",
    "Field Name: STORIES \\\n",
    "Description: Number of floors in the building"
   ]
  },
  {
   "cell_type": "code",
   "execution_count": 125,
   "metadata": {},
   "outputs": [
    {
     "data": {
      "text/plain": [
       "count   1014730.00\n",
       "mean          5.01\n",
       "std           8.37\n",
       "min           1.00\n",
       "50%           2.00\n",
       "75%           3.00\n",
       "99.5%        50.00\n",
       "max         119.00\n",
       "Name: STORIES, dtype: float64"
      ]
     },
     "execution_count": 125,
     "metadata": {},
     "output_type": "execute_result"
    }
   ],
   "source": [
    "data['STORIES'].describe(percentiles = [0.5,0.75,0.995])"
   ]
  },
  {
   "cell_type": "code",
   "execution_count": 127,
   "metadata": {},
   "outputs": [],
   "source": [
    "tmp = data[data['STORIES'] <= 50]"
   ]
  },
  {
   "cell_type": "code",
   "execution_count": 160,
   "metadata": {},
   "outputs": [
    {
     "name": "stderr",
     "output_type": "stream",
     "text": [
      "/Applications/anaconda3/lib/python3.7/site-packages/seaborn/distributions.py:2551: FutureWarning: `distplot` is a deprecated function and will be removed in a future version. Please adapt your code to use either `displot` (a figure-level function with similar flexibility) or `histplot` (an axes-level function for histograms).\n",
      "  warnings.warn(msg, FutureWarning)\n"
     ]
    },
    {
     "data": {
      "text/plain": [
       "Text(0.5, 1.0, 'Distribution of STORIES of properties')"
      ]
     },
     "execution_count": 160,
     "metadata": {},
     "output_type": "execute_result"
    },
    {
     "data": {
      "image/png": "[encoded data removed]",
      "text/plain": [
       "<Figure size 432x288 with 1 Axes>"
      ]
     },
     "metadata": {},
     "output_type": "display_data"
    }
   ],
   "source": [
    "fig7 = sns.distplot(tmp['STORIES'],kde=False, bins = 50)\n",
    "fig7.set_yscale('log',basey = 2)\n",
    "fig7.set_title('Distribution of STORIES of properties')"
   ]
  },
  {
   "cell_type": "markdown",
   "metadata": {},
   "source": [
    "Field 13 \\\n",
    "Field Name: FULLVAL \\\n",
    "Description: Total Market Value"
   ]
  },
  {
   "cell_type": "code",
   "execution_count": 167,
   "metadata": {},
   "outputs": [
    {
     "data": {
      "text/plain": [
       "count      1070994.00\n",
       "mean        874264.51\n",
       "std       11582430.99\n",
       "min              0.00\n",
       "50%         447000.00\n",
       "75%         619000.00\n",
       "95%        1530000.00\n",
       "max     6150000000.00\n",
       "Name: FULLVAL, dtype: float64"
      ]
     },
     "execution_count": 167,
     "metadata": {},
     "output_type": "execute_result"
    }
   ],
   "source": [
    "data['FULLVAL'].describe(percentiles = [0.5,0.75,0.95])"
   ]
  },
  {
   "cell_type": "code",
   "execution_count": 168,
   "metadata": {},
   "outputs": [],
   "source": [
    "tmp = data[data['FULLVAL'] <= 2000000]"
   ]
  },
  {
   "cell_type": "code",
   "execution_count": 169,
   "metadata": {},
   "outputs": [],
   "source": [
    "import matplotlib.pyplot as pyplot"
   ]
  },
  {
   "cell_type": "code",
   "execution_count": 170,
   "metadata": {},
   "outputs": [
    {
     "name": "stderr",
     "output_type": "stream",
     "text": [
      "/Applications/anaconda3/lib/python3.7/site-packages/seaborn/distributions.py:2551: FutureWarning: `distplot` is a deprecated function and will be removed in a future version. Please adapt your code to use either `displot` (a figure-level function with similar flexibility) or `histplot` (an axes-level function for histograms).\n",
      "  warnings.warn(msg, FutureWarning)\n"
     ]
    },
    {
     "data": {
      "text/plain": [
       "Text(0.5, 1.0, 'Distribution of Total Market Value of properties')"
      ]
     },
     "execution_count": 170,
     "metadata": {},
     "output_type": "execute_result"
    },
    {
     "data": {
      "image/png": "[encoded data removed]",
      "text/plain": [
       "<Figure size 864x576 with 1 Axes>"
      ]
     },
     "metadata": {},
     "output_type": "display_data"
    }
   ],
   "source": [
    "a4_dims = (12, 8)\n",
    "fig, ax = pyplot.subplots(figsize=a4_dims)\n",
    "fig8 = sns.distplot(tmp.FULLVAL, kde=False, bins = 80)\n",
    "fig8.set_title('Distribution of Total Market Value of properties')"
   ]
  },
  {
   "cell_type": "markdown",
   "metadata": {},
   "source": [
    "Field 14 \\\n",
    "Field Name: AVLAND \\\n",
    "Description: Market value of land"
   ]
  },
  {
   "cell_type": "code",
   "execution_count": 171,
   "metadata": {},
   "outputs": [
    {
     "data": {
      "text/plain": [
       "count      1070994.00\n",
       "mean         85067.92\n",
       "std        4057260.06\n",
       "min              0.00\n",
       "50%          13678.00\n",
       "75%          19740.00\n",
       "95%         131388.75\n",
       "max     2668500000.00\n",
       "Name: AVLAND, dtype: float64"
      ]
     },
     "execution_count": 171,
     "metadata": {},
     "output_type": "execute_result"
    }
   ],
   "source": [
    "data['AVLAND'].describe(percentiles = [0.5,0.75,0.95])"
   ]
  },
  {
   "cell_type": "code",
   "execution_count": 179,
   "metadata": {},
   "outputs": [],
   "source": [
    "tmp = data[data['AVLAND'] <= 50000]"
   ]
  },
  {
   "cell_type": "code",
   "execution_count": 180,
   "metadata": {},
   "outputs": [
    {
     "name": "stderr",
     "output_type": "stream",
     "text": [
      "/Applications/anaconda3/lib/python3.7/site-packages/seaborn/distributions.py:2551: FutureWarning: `distplot` is a deprecated function and will be removed in a future version. Please adapt your code to use either `displot` (a figure-level function with similar flexibility) or `histplot` (an axes-level function for histograms).\n",
      "  warnings.warn(msg, FutureWarning)\n"
     ]
    },
    {
     "data": {
      "text/plain": [
       "Text(0.5, 1.0, 'Distribution of Market value of land')"
      ]
     },
     "execution_count": 180,
     "metadata": {},
     "output_type": "execute_result"
    },
    {
     "data": {
      "image/png": "[encoded data removed]",
      "text/plain": [
       "<Figure size 864x576 with 1 Axes>"
      ]
     },
     "metadata": {},
     "output_type": "display_data"
    }
   ],
   "source": [
    "a4_dims = (12, 8)\n",
    "fig, ax = pyplot.subplots(figsize=a4_dims)\n",
    "fig9 = sns.distplot(tmp.AVLAND, kde=False, bins = 80)\n",
    "fig9.set_title('Distribution of Market value of land')"
   ]
  },
  {
   "cell_type": "markdown",
   "metadata": {},
   "source": [
    "Field 15 \\\n",
    "Field Name: AVTOT \\\n",
    "Description: Market value of land"
   ]
  },
  {
   "cell_type": "code",
   "execution_count": 182,
   "metadata": {},
   "outputs": [
    {
     "data": {
      "text/plain": [
       "count      1070994.00\n",
       "mean        227238.17\n",
       "std        6877529.31\n",
       "min              0.00\n",
       "50%          25340.00\n",
       "75%          45438.00\n",
       "90%         158850.00\n",
       "max     4668308947.00\n",
       "Name: AVTOT, dtype: float64"
      ]
     },
     "execution_count": 182,
     "metadata": {},
     "output_type": "execute_result"
    }
   ],
   "source": [
    "data['AVTOT'].describe(percentiles = [0.5,0.75,0.90])"
   ]
  },
  {
   "cell_type": "code",
   "execution_count": 183,
   "metadata": {},
   "outputs": [],
   "source": [
    "tmp = data[data['AVTOT'] <= 50000]"
   ]
  },
  {
   "cell_type": "code",
   "execution_count": 184,
   "metadata": {},
   "outputs": [
    {
     "name": "stderr",
     "output_type": "stream",
     "text": [
      "/Applications/anaconda3/lib/python3.7/site-packages/seaborn/distributions.py:2551: FutureWarning: `distplot` is a deprecated function and will be removed in a future version. Please adapt your code to use either `displot` (a figure-level function with similar flexibility) or `histplot` (an axes-level function for histograms).\n",
      "  warnings.warn(msg, FutureWarning)\n"
     ]
    },
    {
     "data": {
      "text/plain": [
       "Text(0.5, 1.0, 'Distribution of total Market value')"
      ]
     },
     "execution_count": 184,
     "metadata": {},
     "output_type": "execute_result"
    },
    {
     "data": {
      "image/png": "[encoded data removed]",
      "text/plain": [
       "<Figure size 864x576 with 1 Axes>"
      ]
     },
     "metadata": {},
     "output_type": "display_data"
    }
   ],
   "source": [
    "a4_dims = (12, 8)\n",
    "fig, ax = pyplot.subplots(figsize=a4_dims)\n",
    "fig10 = sns.distplot(tmp.AVLAND, bins = 80)\n",
    "fig10.set_title('Distribution of total Market value')"
   ]
  },
  {
   "cell_type": "markdown",
   "metadata": {},
   "source": [
    "Field 16 \\\n",
    "Field Name: EXLAND \\\n",
    "Description: Tentative transitional exempt land value"
   ]
  },
  {
   "cell_type": "code",
   "execution_count": 187,
   "metadata": {},
   "outputs": [
    {
     "data": {
      "text/plain": [
       "count      1070994.00\n",
       "mean         36423.89\n",
       "std        3981575.79\n",
       "min              0.00\n",
       "50%           1620.00\n",
       "75%           1620.00\n",
       "95%          14489.00\n",
       "max     2668500000.00\n",
       "Name: EXLAND, dtype: float64"
      ]
     },
     "execution_count": 187,
     "metadata": {},
     "output_type": "execute_result"
    }
   ],
   "source": [
    "data['EXLAND'].describe(percentiles = [0.5,0.75,0.95])"
   ]
  },
  {
   "cell_type": "code",
   "execution_count": 189,
   "metadata": {},
   "outputs": [],
   "source": [
    "tmp = data[data['EXLAND'] <= 20000]"
   ]
  },
  {
   "cell_type": "code",
   "execution_count": 192,
   "metadata": {},
   "outputs": [
    {
     "name": "stderr",
     "output_type": "stream",
     "text": [
      "/Applications/anaconda3/lib/python3.7/site-packages/seaborn/distributions.py:2551: FutureWarning: `distplot` is a deprecated function and will be removed in a future version. Please adapt your code to use either `displot` (a figure-level function with similar flexibility) or `histplot` (an axes-level function for histograms).\n",
      "  warnings.warn(msg, FutureWarning)\n"
     ]
    },
    {
     "data": {
      "text/plain": [
       "Text(0.5, 1.0, 'Tentative transitional exempt land value')"
      ]
     },
     "execution_count": 192,
     "metadata": {},
     "output_type": "execute_result"
    },
    {
     "data": {
      "image/png": "[encoded data removed]",
      "text/plain": [
       "<Figure size 720x576 with 1 Axes>"
      ]
     },
     "metadata": {},
     "output_type": "display_data"
    }
   ],
   "source": [
    "a4_dims = (10, 8)\n",
    "fig, ax = pyplot.subplots(figsize=a4_dims)\n",
    "fig11 = sns.distplot(tmp.EXLAND,kde = False, bins = 100)\n",
    "fig11.set_yscale('log', basey = 2)\n",
    "fig11.set_title('Tentative transitional exempt land value')"
   ]
  },
  {
   "cell_type": "markdown",
   "metadata": {},
   "source": [
    "Field 17 \\\n",
    "Field Name: EXTOT \\\n",
    "Description: Tentative transitional exempt total value"
   ]
  },
  {
   "cell_type": "code",
   "execution_count": 193,
   "metadata": {},
   "outputs": [
    {
     "data": {
      "text/plain": [
       "count      1070994.00\n",
       "mean         91186.98\n",
       "std        6508402.82\n",
       "min              0.00\n",
       "50%           1620.00\n",
       "75%           2090.00\n",
       "95%          61420.40\n",
       "max     4668308947.00\n",
       "Name: EXTOT, dtype: float64"
      ]
     },
     "execution_count": 193,
     "metadata": {},
     "output_type": "execute_result"
    }
   ],
   "source": [
    "data['EXTOT'].describe(percentiles = [0.5,0.75,0.95])"
   ]
  },
  {
   "cell_type": "code",
   "execution_count": 194,
   "metadata": {},
   "outputs": [],
   "source": [
    "tmp = data[data['EXTOT'] <= 60000]"
   ]
  },
  {
   "cell_type": "code",
   "execution_count": 196,
   "metadata": {},
   "outputs": [
    {
     "name": "stderr",
     "output_type": "stream",
     "text": [
      "/Applications/anaconda3/lib/python3.7/site-packages/seaborn/distributions.py:2551: FutureWarning: `distplot` is a deprecated function and will be removed in a future version. Please adapt your code to use either `displot` (a figure-level function with similar flexibility) or `histplot` (an axes-level function for histograms).\n",
      "  warnings.warn(msg, FutureWarning)\n"
     ]
    },
    {
     "data": {
      "text/plain": [
       "Text(0.5, 1.0, 'Tentative transitional exempt total value')"
      ]
     },
     "execution_count": 196,
     "metadata": {},
     "output_type": "execute_result"
    },
    {
     "data": {
      "image/png": "[encoded data removed]",
      "text/plain": [
       "<Figure size 720x576 with 1 Axes>"
      ]
     },
     "metadata": {},
     "output_type": "display_data"
    }
   ],
   "source": [
    "a4_dims = (10, 8)\n",
    "fig, ax = pyplot.subplots(figsize=a4_dims)\n",
    "fig12 = sns.distplot(tmp.EXTOT,kde = False, bins = 80)\n",
    "fig12.set_yscale('log', basey = 2)\n",
    "fig12.set_title('Tentative transitional exempt total value')"
   ]
  },
  {
   "cell_type": "markdown",
   "metadata": {},
   "source": [
    "Field 18  \\\n",
    "Field Name: EXCD1 \\\n",
    "Description:"
   ]
  },
  {
   "cell_type": "code",
   "execution_count": 197,
   "metadata": {},
   "outputs": [
    {
     "data": {
      "text/html": [
       "<div>\n",
       "<style scoped>\n",
       "    .dataframe tbody tr th:only-of-type {\n",
       "        vertical-align: middle;\n",
       "    }\n",
       "\n",
       "    .dataframe tbody tr th {\n",
       "        vertical-align: top;\n",
       "    }\n",
       "\n",
       "    .dataframe thead th {\n",
       "        text-align: right;\n",
       "    }\n",
       "</style>\n",
       "<table border=\"1\" class=\"dataframe\">\n",
       "  <thead>\n",
       "    <tr style=\"text-align: right;\">\n",
       "      <th></th>\n",
       "      <th>Unique_values_EXCD1</th>\n",
       "      <th>Counts</th>\n",
       "    </tr>\n",
       "  </thead>\n",
       "  <tbody>\n",
       "    <tr>\n",
       "      <th>0</th>\n",
       "      <td>1017.00</td>\n",
       "      <td>425348</td>\n",
       "    </tr>\n",
       "    <tr>\n",
       "      <th>1</th>\n",
       "      <td>1010.00</td>\n",
       "      <td>49756</td>\n",
       "    </tr>\n",
       "    <tr>\n",
       "      <th>2</th>\n",
       "      <td>1015.00</td>\n",
       "      <td>31323</td>\n",
       "    </tr>\n",
       "    <tr>\n",
       "      <th>3</th>\n",
       "      <td>5113.00</td>\n",
       "      <td>23858</td>\n",
       "    </tr>\n",
       "    <tr>\n",
       "      <th>4</th>\n",
       "      <td>1920.00</td>\n",
       "      <td>17594</td>\n",
       "    </tr>\n",
       "    <tr>\n",
       "      <th>5</th>\n",
       "      <td>5110.00</td>\n",
       "      <td>16834</td>\n",
       "    </tr>\n",
       "    <tr>\n",
       "      <th>6</th>\n",
       "      <td>5114.00</td>\n",
       "      <td>14984</td>\n",
       "    </tr>\n",
       "    <tr>\n",
       "      <th>7</th>\n",
       "      <td>5111.00</td>\n",
       "      <td>10609</td>\n",
       "    </tr>\n",
       "    <tr>\n",
       "      <th>8</th>\n",
       "      <td>1021.00</td>\n",
       "      <td>6613</td>\n",
       "    </tr>\n",
       "    <tr>\n",
       "      <th>9</th>\n",
       "      <td>1986.00</td>\n",
       "      <td>4231</td>\n",
       "    </tr>\n",
       "    <tr>\n",
       "      <th>10</th>\n",
       "      <td>5112.00</td>\n",
       "      <td>4071</td>\n",
       "    </tr>\n",
       "    <tr>\n",
       "      <th>11</th>\n",
       "      <td>1925.00</td>\n",
       "      <td>3566</td>\n",
       "    </tr>\n",
       "    <tr>\n",
       "      <th>12</th>\n",
       "      <td>6800.00</td>\n",
       "      <td>3494</td>\n",
       "    </tr>\n",
       "    <tr>\n",
       "      <th>13</th>\n",
       "      <td>1985.00</td>\n",
       "      <td>2471</td>\n",
       "    </tr>\n",
       "    <tr>\n",
       "      <th>14</th>\n",
       "      <td>2231.00</td>\n",
       "      <td>1866</td>\n",
       "    </tr>\n",
       "  </tbody>\n",
       "</table>\n",
       "</div>"
      ],
      "text/plain": [
       "    Unique_values_EXCD1  Counts\n",
       "0               1017.00  425348\n",
       "1               1010.00   49756\n",
       "2               1015.00   31323\n",
       "3               5113.00   23858\n",
       "4               1920.00   17594\n",
       "5               5110.00   16834\n",
       "6               5114.00   14984\n",
       "7               5111.00   10609\n",
       "8               1021.00    6613\n",
       "9               1986.00    4231\n",
       "10              5112.00    4071\n",
       "11              1925.00    3566\n",
       "12              6800.00    3494\n",
       "13              1985.00    2471\n",
       "14              2231.00    1866"
      ]
     },
     "execution_count": 197,
     "metadata": {},
     "output_type": "execute_result"
    }
   ],
   "source": [
    "EXCD1 = cat_dt['EXCD1'].value_counts().rename_axis('Unique_values_EXCD1').reset_index(name='Counts')\n",
    "EXCD1[:15]"
   ]
  },
  {
   "cell_type": "markdown",
   "metadata": {},
   "source": [
    "Field 19 \\\n",
    "Field Name: STADDR \\\n",
    "Description: Street name of property"
   ]
  },
  {
   "cell_type": "code",
   "execution_count": 199,
   "metadata": {},
   "outputs": [
    {
     "data": {
      "text/html": [
       "<div>\n",
       "<style scoped>\n",
       "    .dataframe tbody tr th:only-of-type {\n",
       "        vertical-align: middle;\n",
       "    }\n",
       "\n",
       "    .dataframe tbody tr th {\n",
       "        vertical-align: top;\n",
       "    }\n",
       "\n",
       "    .dataframe thead th {\n",
       "        text-align: right;\n",
       "    }\n",
       "</style>\n",
       "<table border=\"1\" class=\"dataframe\">\n",
       "  <thead>\n",
       "    <tr style=\"text-align: right;\">\n",
       "      <th></th>\n",
       "      <th>Unique_values_STADDR</th>\n",
       "      <th>Counts</th>\n",
       "    </tr>\n",
       "  </thead>\n",
       "  <tbody>\n",
       "    <tr>\n",
       "      <th>0</th>\n",
       "      <td>501 SURF AVENUE</td>\n",
       "      <td>902</td>\n",
       "    </tr>\n",
       "    <tr>\n",
       "      <th>1</th>\n",
       "      <td>330 EAST 38 STREET</td>\n",
       "      <td>817</td>\n",
       "    </tr>\n",
       "    <tr>\n",
       "      <th>2</th>\n",
       "      <td>322 WEST 57 STREET</td>\n",
       "      <td>720</td>\n",
       "    </tr>\n",
       "    <tr>\n",
       "      <th>3</th>\n",
       "      <td>155 WEST 68 STREET</td>\n",
       "      <td>671</td>\n",
       "    </tr>\n",
       "    <tr>\n",
       "      <th>4</th>\n",
       "      <td>20 WEST 64 STREET</td>\n",
       "      <td>657</td>\n",
       "    </tr>\n",
       "    <tr>\n",
       "      <th>5</th>\n",
       "      <td>1 IRVING PLACE</td>\n",
       "      <td>650</td>\n",
       "    </tr>\n",
       "    <tr>\n",
       "      <th>6</th>\n",
       "      <td>220 RIVERSIDE BOULEVARD</td>\n",
       "      <td>628</td>\n",
       "    </tr>\n",
       "    <tr>\n",
       "      <th>7</th>\n",
       "      <td>360 FURMAN STREET</td>\n",
       "      <td>599</td>\n",
       "    </tr>\n",
       "    <tr>\n",
       "      <th>8</th>\n",
       "      <td>200 EAST 66 STREET</td>\n",
       "      <td>585</td>\n",
       "    </tr>\n",
       "    <tr>\n",
       "      <th>9</th>\n",
       "      <td>30 WEST 63 STREET</td>\n",
       "      <td>562</td>\n",
       "    </tr>\n",
       "    <tr>\n",
       "      <th>10</th>\n",
       "      <td>2 BAY CLUB DRIVE</td>\n",
       "      <td>556</td>\n",
       "    </tr>\n",
       "    <tr>\n",
       "      <th>11</th>\n",
       "      <td>350 WEST 42 STREET</td>\n",
       "      <td>556</td>\n",
       "    </tr>\n",
       "    <tr>\n",
       "      <th>12</th>\n",
       "      <td>200 RECTOR PLACE</td>\n",
       "      <td>549</td>\n",
       "    </tr>\n",
       "    <tr>\n",
       "      <th>13</th>\n",
       "      <td>301 EAST 79 STREET</td>\n",
       "      <td>538</td>\n",
       "    </tr>\n",
       "    <tr>\n",
       "      <th>14</th>\n",
       "      <td>350 WEST 50 STREET</td>\n",
       "      <td>498</td>\n",
       "    </tr>\n",
       "  </tbody>\n",
       "</table>\n",
       "</div>"
      ],
      "text/plain": [
       "       Unique_values_STADDR  Counts\n",
       "0           501 SURF AVENUE     902\n",
       "1        330 EAST 38 STREET     817\n",
       "2        322 WEST 57 STREET     720\n",
       "3        155 WEST 68 STREET     671\n",
       "4         20 WEST 64 STREET     657\n",
       "5            1 IRVING PLACE     650\n",
       "6   220 RIVERSIDE BOULEVARD     628\n",
       "7         360 FURMAN STREET     599\n",
       "8        200 EAST 66 STREET     585\n",
       "9         30 WEST 63 STREET     562\n",
       "10         2 BAY CLUB DRIVE     556\n",
       "11       350 WEST 42 STREET     556\n",
       "12         200 RECTOR PLACE     549\n",
       "13       301 EAST 79 STREET     538\n",
       "14       350 WEST 50 STREET     498"
      ]
     },
     "execution_count": 199,
     "metadata": {},
     "output_type": "execute_result"
    }
   ],
   "source": [
    "STADDR = cat_dt['STADDR'].value_counts().rename_axis('Unique_values_STADDR').reset_index(name='Counts')\n",
    "STADDR[:15]"
   ]
  },
  {
   "cell_type": "markdown",
   "metadata": {},
   "source": [
    "Field 20 \\\n",
    "Field Name: ZIP \\\n",
    "Description: Postal ZIP code of the property"
   ]
  },
  {
   "cell_type": "code",
   "execution_count": 204,
   "metadata": {},
   "outputs": [
    {
     "data": {
      "text/html": [
       "<div>\n",
       "<style scoped>\n",
       "    .dataframe tbody tr th:only-of-type {\n",
       "        vertical-align: middle;\n",
       "    }\n",
       "\n",
       "    .dataframe tbody tr th {\n",
       "        vertical-align: top;\n",
       "    }\n",
       "\n",
       "    .dataframe thead th {\n",
       "        text-align: right;\n",
       "    }\n",
       "</style>\n",
       "<table border=\"1\" class=\"dataframe\">\n",
       "  <thead>\n",
       "    <tr style=\"text-align: right;\">\n",
       "      <th></th>\n",
       "      <th>Unique_values_ZIP</th>\n",
       "      <th>Counts</th>\n",
       "    </tr>\n",
       "  </thead>\n",
       "  <tbody>\n",
       "    <tr>\n",
       "      <th>0</th>\n",
       "      <td>10314</td>\n",
       "      <td>24606</td>\n",
       "    </tr>\n",
       "    <tr>\n",
       "      <th>1</th>\n",
       "      <td>11234</td>\n",
       "      <td>20001</td>\n",
       "    </tr>\n",
       "    <tr>\n",
       "      <th>2</th>\n",
       "      <td>10312</td>\n",
       "      <td>18127</td>\n",
       "    </tr>\n",
       "    <tr>\n",
       "      <th>3</th>\n",
       "      <td>10462</td>\n",
       "      <td>16905</td>\n",
       "    </tr>\n",
       "    <tr>\n",
       "      <th>4</th>\n",
       "      <td>10306</td>\n",
       "      <td>16578</td>\n",
       "    </tr>\n",
       "    <tr>\n",
       "      <th>5</th>\n",
       "      <td>11236</td>\n",
       "      <td>15678</td>\n",
       "    </tr>\n",
       "    <tr>\n",
       "      <th>6</th>\n",
       "      <td>11385</td>\n",
       "      <td>14921</td>\n",
       "    </tr>\n",
       "    <tr>\n",
       "      <th>7</th>\n",
       "      <td>11229</td>\n",
       "      <td>12793</td>\n",
       "    </tr>\n",
       "    <tr>\n",
       "      <th>8</th>\n",
       "      <td>11211</td>\n",
       "      <td>12710</td>\n",
       "    </tr>\n",
       "    <tr>\n",
       "      <th>9</th>\n",
       "      <td>11207</td>\n",
       "      <td>12293</td>\n",
       "    </tr>\n",
       "    <tr>\n",
       "      <th>10</th>\n",
       "      <td>11215</td>\n",
       "      <td>11834</td>\n",
       "    </tr>\n",
       "    <tr>\n",
       "      <th>11</th>\n",
       "      <td>11235</td>\n",
       "      <td>11312</td>\n",
       "    </tr>\n",
       "    <tr>\n",
       "      <th>12</th>\n",
       "      <td>11203</td>\n",
       "      <td>11241</td>\n",
       "    </tr>\n",
       "    <tr>\n",
       "      <th>13</th>\n",
       "      <td>11208</td>\n",
       "      <td>11139</td>\n",
       "    </tr>\n",
       "    <tr>\n",
       "      <th>14</th>\n",
       "      <td>11204</td>\n",
       "      <td>11061</td>\n",
       "    </tr>\n",
       "  </tbody>\n",
       "</table>\n",
       "</div>"
      ],
      "text/plain": [
       "    Unique_values_ZIP  Counts\n",
       "0               10314   24606\n",
       "1               11234   20001\n",
       "2               10312   18127\n",
       "3               10462   16905\n",
       "4               10306   16578\n",
       "5               11236   15678\n",
       "6               11385   14921\n",
       "7               11229   12793\n",
       "8               11211   12710\n",
       "9               11207   12293\n",
       "10              11215   11834\n",
       "11              11235   11312\n",
       "12              11203   11241\n",
       "13              11208   11139\n",
       "14              11204   11061"
      ]
     },
     "execution_count": 204,
     "metadata": {},
     "output_type": "execute_result"
    }
   ],
   "source": [
    "ZIP = cat_dt['ZIP'].value_counts().rename_axis('Unique_values_ZIP').reset_index(name='Counts')\n",
    "ZIP['Unique_values_ZIP'] = ZIP['Unique_values_ZIP'].astype('int64')\n",
    "ZIP[:15]"
   ]
  },
  {
   "cell_type": "markdown",
   "metadata": {},
   "source": [
    "Field 21 \\\n",
    "Field Name: EXMPTCL \\\n",
    "Description: Exempt class used for fully exempt properties only"
   ]
  },
  {
   "cell_type": "code",
   "execution_count": 207,
   "metadata": {
    "scrolled": true
   },
   "outputs": [
    {
     "data": {
      "text/plain": [
       "Text(0.5, 1.0, 'Number of properties with various kinds of Exempt class(for fully exempt properties only)')"
      ]
     },
     "execution_count": 207,
     "metadata": {},
     "output_type": "execute_result"
    },
    {
     "data": {
      "image/png": "[encoded data removed]",
      "text/plain": [
       "<Figure size 432x288 with 1 Axes>"
      ]
     },
     "metadata": {},
     "output_type": "display_data"
    }
   ],
   "source": [
    "fig13 = sns.countplot(x = 'EXMPTCL', data=data, order = data['EXMPTCL'].value_counts().index)\n",
    "fig13.set_title('Number of properties with various kinds of Exempt class(for fully exempt properties only)')\n",
    "                "
   ]
  },
  {
   "cell_type": "markdown",
   "metadata": {},
   "source": [
    "Field 22 \\\n",
    "Field Name: BLDFRONT \\\n",
    "Description: Building frontage in feet"
   ]
  },
  {
   "cell_type": "code",
   "execution_count": 214,
   "metadata": {},
   "outputs": [
    {
     "data": {
      "text/plain": [
       "count   1070994.00\n",
       "mean         23.04\n",
       "std          35.58\n",
       "min           0.00\n",
       "50%          20.00\n",
       "75%          24.00\n",
       "99%         175.00\n",
       "max        7575.00\n",
       "Name: BLDFRONT, dtype: float64"
      ]
     },
     "execution_count": 214,
     "metadata": {},
     "output_type": "execute_result"
    }
   ],
   "source": [
    "data['BLDFRONT'].describe(percentiles = [0.5,0.75,0.99])"
   ]
  },
  {
   "cell_type": "code",
   "execution_count": 215,
   "metadata": {},
   "outputs": [],
   "source": [
    "tmp = data[data['BLDFRONT'] <= 200]"
   ]
  },
  {
   "cell_type": "code",
   "execution_count": 216,
   "metadata": {},
   "outputs": [
    {
     "name": "stderr",
     "output_type": "stream",
     "text": [
      "/Applications/anaconda3/lib/python3.7/site-packages/seaborn/distributions.py:2551: FutureWarning: `distplot` is a deprecated function and will be removed in a future version. Please adapt your code to use either `displot` (a figure-level function with similar flexibility) or `histplot` (an axes-level function for histograms).\n",
      "  warnings.warn(msg, FutureWarning)\n"
     ]
    },
    {
     "data": {
      "text/plain": [
       "Text(0.5, 1.0, 'Distribution of Building frontage in feet')"
      ]
     },
     "execution_count": 216,
     "metadata": {},
     "output_type": "execute_result"
    },
    {
     "data": {
      "image/png": "[encoded data removed]",
      "text/plain": [
       "<Figure size 432x288 with 1 Axes>"
      ]
     },
     "metadata": {},
     "output_type": "display_data"
    }
   ],
   "source": [
    "fig14 = sns.distplot(tmp.BLDFRONT,kde = False, bins = 100)\n",
    "fig14.set_yscale('log')\n",
    "fig14.set_title('Distribution of Building frontage in feet')"
   ]
  },
  {
   "cell_type": "code",
   "execution_count": null,
   "metadata": {},
   "outputs": [],
   "source": []
  },
  {
   "cell_type": "code",
   "execution_count": null,
   "metadata": {},
   "outputs": [],
   "source": []
  },
  {
   "cell_type": "code",
   "execution_count": null,
   "metadata": {},
   "outputs": [],
   "source": []
  },
  {
   "cell_type": "code",
   "execution_count": null,
   "metadata": {},
   "outputs": [],
   "source": []
  },
  {
   "cell_type": "code",
   "execution_count": null,
   "metadata": {},
   "outputs": [],
   "source": []
  },
  {
   "cell_type": "code",
   "execution_count": null,
   "metadata": {},
   "outputs": [],
   "source": []
  },
  {
   "cell_type": "code",
   "execution_count": null,
   "metadata": {},
   "outputs": [],
   "source": [
    "num_cols = ['LTFRONT', 'LTDEPTH', 'STORIES', 'FULLVAL', 'AVLAND', 'AVTOT', 'EXLAND', 'EXTOT', 'BLDFRONT', 'BLDDEPTH', \\\n",
    "            'AVLAND2', 'AVTOT2', 'EXLAND2', 'EXTOT2']\n",
    "cat_cols = ['BBLE', 'B', 'BLOCK', 'LOT', 'EASEMENT', 'OWNER', 'BLDGCL', 'TAXCLASS', 'EXT', 'EXCD1', 'STADDR', 'ZIP',\\\n",
    "            'EXMPTCL', 'EXCD2', 'PERIOD', 'YEAR', 'VALTYPE']"
   ]
  }
 ],
 "metadata": {
  "kernelspec": {
   "display_name": "Python 3",
   "language": "python",
   "name": "python3"
  },
  "language_info": {
   "codemirror_mode": {
    "name": "ipython",
    "version": 3
   },
   "file_extension": ".py",
   "mimetype": "text/x-python",
   "name": "python",
   "nbconvert_exporter": "python",
   "pygments_lexer": "ipython3",
   "version": "3.7.3"
  },
  "toc": {
   "base_numbering": 1,
   "nav_menu": {},
   "number_sections": true,
   "sideBar": true,
   "skip_h1_title": false,
   "title_cell": "Table of Contents",
   "title_sidebar": "Contents",
   "toc_cell": false,
   "toc_position": {},
   "toc_section_display": true,
   "toc_window_display": false
  },
  "varInspector": {
   "cols": {
    "lenName": 16,
    "lenType": 16,
    "lenVar": 40
   },
   "kernels_config": {
    "python": {
     "delete_cmd_postfix": "",
     "delete_cmd_prefix": "del ",
     "library": "var_list.py",
     "varRefreshCmd": "print(var_dic_list())"
    },
    "r": {
     "delete_cmd_postfix": ") ",
     "delete_cmd_prefix": "rm(",
     "library": "var_list.r",
     "varRefreshCmd": "cat(var_dic_list()) "
    }
   },
   "types_to_exclude": [
    "module",
    "function",
    "builtin_function_or_method",
    "instance",
    "_Feature"
   ],
   "window_display": false
  }
 },
 "nbformat": 4,
 "nbformat_minor": 2
}
